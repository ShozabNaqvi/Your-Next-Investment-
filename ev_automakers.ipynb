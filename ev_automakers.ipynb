{
 "cells": [
  {
   "cell_type": "code",
   "execution_count": 13,
   "metadata": {},
   "outputs": [],
   "source": [
    "import panel as pn\n",
    "pn.extension('plotly')\n",
    "import plotly.express as px\n",
    "import pandas as pd\n",
    "import hvplot.pandas\n",
    "import matplotlib.pyplot as plt\n",
    "import os\n",
    "from pathlib import Path\n",
    "from dotenv import load_dotenv"
   ]
  },
  {
   "cell_type": "code",
   "execution_count": 20,
   "metadata": {},
   "outputs": [],
   "source": [
    "file_path = Path(\"Total_Ev_sale_data.csv\")\n",
    "ev_sale = pd.read_csv(file_path)\n",
    "ev_sale[\"Cumulative Number of EVs Sold\"]= ev_sale[\"Cumulative Number of EVs Sold\"].str.replace(\",\" , \"\")\n",
    "ev_sale[\"Cumulative Number of EVs Sold\"]= ev_sale[\"Cumulative Number of EVs Sold\"].astype(\"float\")[\"Cumulative Number of EVs Sold\"]=ev_sale[\"Cumulative Number of EVs Sold\"].astype(\"float\")"
   ]
  },
  {
   "cell_type": "code",
   "execution_count": 28,
   "metadata": {},
   "outputs": [
    {
     "data": {
      "text/html": [
       "<div>\n",
       "<style scoped>\n",
       "    .dataframe tbody tr th:only-of-type {\n",
       "        vertical-align: middle;\n",
       "    }\n",
       "\n",
       "    .dataframe tbody tr th {\n",
       "        vertical-align: top;\n",
       "    }\n",
       "\n",
       "    .dataframe thead th {\n",
       "        text-align: right;\n",
       "    }\n",
       "</style>\n",
       "<table border=\"1\" class=\"dataframe\">\n",
       "  <thead>\n",
       "    <tr style=\"text-align: right;\">\n",
       "      <th></th>\n",
       "      <th>AutoMaker</th>\n",
       "      <th>Cumulative Number of EVs Sold</th>\n",
       "    </tr>\n",
       "  </thead>\n",
       "  <tbody>\n",
       "    <tr>\n",
       "      <th>0</th>\n",
       "      <td>Tasla</td>\n",
       "      <td>381190.0</td>\n",
       "    </tr>\n",
       "    <tr>\n",
       "      <th>1</th>\n",
       "      <td>GM</td>\n",
       "      <td>211587.0</td>\n",
       "    </tr>\n",
       "    <tr>\n",
       "      <th>2</th>\n",
       "      <td>Nissan</td>\n",
       "      <td>139231.0</td>\n",
       "    </tr>\n",
       "    <tr>\n",
       "      <th>3</th>\n",
       "      <td>Ford</td>\n",
       "      <td>114321.0</td>\n",
       "    </tr>\n",
       "    <tr>\n",
       "      <th>4</th>\n",
       "      <td>Toyota</td>\n",
       "      <td>99950.0</td>\n",
       "    </tr>\n",
       "    <tr>\n",
       "      <th>5</th>\n",
       "      <td>BMW</td>\n",
       "      <td>85888.0</td>\n",
       "    </tr>\n",
       "    <tr>\n",
       "      <th>6</th>\n",
       "      <td>Fiat Chrysler\\n</td>\n",
       "      <td>39855.0</td>\n",
       "    </tr>\n",
       "    <tr>\n",
       "      <th>7</th>\n",
       "      <td>Volkswagen</td>\n",
       "      <td>35318.0</td>\n",
       "    </tr>\n",
       "    <tr>\n",
       "      <th>8</th>\n",
       "      <td>Honda</td>\n",
       "      <td>27639.0</td>\n",
       "    </tr>\n",
       "    <tr>\n",
       "      <th>9</th>\n",
       "      <td>Hyundai-Kia</td>\n",
       "      <td>22339.0</td>\n",
       "    </tr>\n",
       "  </tbody>\n",
       "</table>\n",
       "</div>"
      ],
      "text/plain": [
       "         AutoMaker  Cumulative Number of EVs Sold\n",
       "0            Tasla                       381190.0\n",
       "1               GM                       211587.0\n",
       "2           Nissan                       139231.0\n",
       "3             Ford                       114321.0\n",
       "4           Toyota                        99950.0\n",
       "5              BMW                        85888.0\n",
       "6  Fiat Chrysler\\n                        39855.0\n",
       "7       Volkswagen                        35318.0\n",
       "8            Honda                        27639.0\n",
       "9      Hyundai-Kia                        22339.0"
      ]
     },
     "execution_count": 28,
     "metadata": {},
     "output_type": "execute_result"
    }
   ],
   "source": [
    "ev_sale.head(10)"
   ]
  },
  {
   "cell_type": "code",
   "execution_count": 32,
   "metadata": {},
   "outputs": [
    {
     "data": {
      "application/vnd.holoviews_exec.v0+json": "",
      "text/html": [
       "<div id='1473'>\n",
       "\n",
       "\n",
       "\n",
       "\n",
       "\n",
       "  <div class=\"bk-root\" id=\"84f40e01-a40e-4313-b4c4-c70576167a89\" data-root-id=\"1473\"></div>\n",
       "</div>\n",
       "<script type=\"application/javascript\">(function(root) {\n",
       "  function embed_document(root) {\n",
       "  var docs_json = {\"be6bde93-4804-4f52-9747-f6feafcedc70\":{\"roots\":{\"references\":[{\"attributes\":{\"axis\":{\"id\":\"1487\"},\"grid_line_color\":null,\"ticker\":null},\"id\":\"1489\",\"type\":\"Grid\"},{\"attributes\":{\"margin\":[5,5,5,5],\"name\":\"HSpacer02847\",\"sizing_mode\":\"stretch_width\"},\"id\":\"1474\",\"type\":\"Spacer\"},{\"attributes\":{\"factors\":[\"Tasla\",\"GM\",\"Nissan\",\"Ford\",\"Toyota\",\"BMW\",\"Fiat Chrysler\\n\",\"Volkswagen\",\"Honda\",\"Hyundai-Kia\",\"Daimler\",\"Volvo\"],\"tags\":[[[\"AutoMaker\",\"AutoMaker\",null]]]},\"id\":\"1475\",\"type\":\"FactorRange\"},{\"attributes\":{\"overlay\":{\"id\":\"1499\"}},\"id\":\"1497\",\"type\":\"BoxZoomTool\"},{\"attributes\":{\"end\":418324.9,\"reset_end\":418324.9,\"reset_start\":0.0,\"tags\":[[[\"Cumulative Number of EVs Sold\",\"Cumulative Number of EVs Sold\",null]]]},\"id\":\"1476\",\"type\":\"Range1d\"},{\"attributes\":{},\"id\":\"1488\",\"type\":\"CategoricalTicker\"},{\"attributes\":{\"data\":{\"x\":[\"Tasla\",\"GM\",\"Nissan\",\"Ford\",\"Toyota\",\"BMW\",\"Fiat Chrysler\\n\",\"Volkswagen\",\"Honda\",\"Hyundai-Kia\",\"Daimler\",\"Volvo\",\"Volvo\",\"Daimler\",\"Hyundai-Kia\",\"Honda\",\"Volkswagen\",\"Fiat Chrysler\\n\",\"BMW\",\"Toyota\",\"Ford\",\"Nissan\",\"GM\",\"Tasla\"],\"y\":{\"__ndarray__\":\"AAAAAAAAAAAAAAAAAAAAAAAAAAAAAAAAAAAAAAAAAAAAAAAAAAAAAAAAAAAAAAAAAAAAAAAAAAAAAAAAAAAAAAAAAAAAAAAAAAAAAAAAAAAAAAAAAAAAAAAAAAAAAAAAAAAAAIA4w0AAAAAAgM7SQAAAAADA0NVAAAAAAMD92kAAAAAAwD7hQAAAAADgdeNAAAAAAAD49EAAAAAA4Gb4QAAAAAAQ6ftAAAAAAPj+AEEAAAAAGNQJQQAAAAAYRBdB\",\"dtype\":\"float64\",\"order\":\"little\",\"shape\":[24]}},\"selected\":{\"id\":\"1508\"},\"selection_policy\":{\"id\":\"1525\"}},\"id\":\"1507\",\"type\":\"ColumnDataSource\"},{\"attributes\":{},\"id\":\"1516\",\"type\":\"CategoricalTickFormatter\"},{\"attributes\":{\"axis_label\":\"Cumulative Number of EVs Sold\",\"bounds\":\"auto\",\"formatter\":{\"id\":\"1517\"},\"major_label_orientation\":\"horizontal\",\"ticker\":{\"id\":\"1491\"}},\"id\":\"1490\",\"type\":\"LinearAxis\"},{\"attributes\":{\"children\":[{\"id\":\"1474\"},{\"id\":\"1478\"},{\"id\":\"1535\"}],\"margin\":[0,0,0,0],\"name\":\"Row02843\",\"tags\":[\"embedded\"]},\"id\":\"1473\",\"type\":\"Row\"},{\"attributes\":{\"data_source\":{\"id\":\"1507\"},\"glyph\":{\"id\":\"1510\"},\"hover_glyph\":null,\"muted_glyph\":{\"id\":\"1512\"},\"nonselection_glyph\":{\"id\":\"1511\"},\"selection_glyph\":null,\"view\":{\"id\":\"1514\"}},\"id\":\"1513\",\"type\":\"GlyphRenderer\"},{\"attributes\":{},\"id\":\"1525\",\"type\":\"UnionRenderers\"},{\"attributes\":{},\"id\":\"1517\",\"type\":\"BasicTickFormatter\"},{\"attributes\":{},\"id\":\"1491\",\"type\":\"BasicTicker\"},{\"attributes\":{},\"id\":\"1508\",\"type\":\"Selection\"},{\"attributes\":{\"source\":{\"id\":\"1507\"}},\"id\":\"1514\",\"type\":\"CDSView\"},{\"attributes\":{\"fill_alpha\":1,\"fill_color\":\"green\",\"line_alpha\":1,\"x\":{\"field\":\"x\"},\"y\":{\"field\":\"y\"}},\"id\":\"1511\",\"type\":\"Patch\"},{\"attributes\":{\"callback\":null,\"renderers\":[{\"id\":\"1513\"}],\"tags\":[\"hv_created\"],\"tooltips\":[[\"AutoMaker\",\"@{AutoMaker}\"],[\"Cumulative Number of EVs Sold\",\"@{Cumulative_Number_of_EVs_Sold}\"]]},\"id\":\"1477\",\"type\":\"HoverTool\"},{\"attributes\":{},\"id\":\"1495\",\"type\":\"PanTool\"},{\"attributes\":{\"margin\":[5,5,5,5],\"name\":\"HSpacer02848\",\"sizing_mode\":\"stretch_width\"},\"id\":\"1535\",\"type\":\"Spacer\"},{\"attributes\":{\"axis\":{\"id\":\"1490\"},\"dimension\":1,\"grid_line_color\":null,\"ticker\":null},\"id\":\"1493\",\"type\":\"Grid\"},{\"attributes\":{\"active_drag\":\"auto\",\"active_inspect\":\"auto\",\"active_multi\":null,\"active_scroll\":\"auto\",\"active_tap\":\"auto\",\"tools\":[{\"id\":\"1477\"},{\"id\":\"1494\"},{\"id\":\"1495\"},{\"id\":\"1496\"},{\"id\":\"1497\"},{\"id\":\"1498\"}]},\"id\":\"1500\",\"type\":\"Toolbar\"},{\"attributes\":{\"fill_alpha\":0.2,\"fill_color\":\"green\",\"line_alpha\":0.2,\"x\":{\"field\":\"x\"},\"y\":{\"field\":\"y\"}},\"id\":\"1512\",\"type\":\"Patch\"},{\"attributes\":{\"align\":null,\"below\":[{\"id\":\"1487\"}],\"center\":[{\"id\":\"1489\"},{\"id\":\"1493\"}],\"left\":[{\"id\":\"1490\"}],\"margin\":null,\"min_border_bottom\":10,\"min_border_left\":10,\"min_border_right\":10,\"min_border_top\":10,\"plot_height\":300,\"plot_width\":700,\"renderers\":[{\"id\":\"1513\"}],\"sizing_mode\":\"fixed\",\"title\":{\"id\":\"1479\"},\"toolbar\":{\"id\":\"1500\"},\"x_range\":{\"id\":\"1475\"},\"x_scale\":{\"id\":\"1483\"},\"y_range\":{\"id\":\"1476\"},\"y_scale\":{\"id\":\"1485\"}},\"id\":\"1478\",\"subtype\":\"Figure\",\"type\":\"Plot\"},{\"attributes\":{},\"id\":\"1483\",\"type\":\"CategoricalScale\"},{\"attributes\":{\"fill_color\":\"green\",\"x\":{\"field\":\"x\"},\"y\":{\"field\":\"y\"}},\"id\":\"1510\",\"type\":\"Patch\"},{\"attributes\":{\"text\":\"\",\"text_color\":{\"value\":\"black\"},\"text_font_size\":{\"value\":\"12pt\"}},\"id\":\"1479\",\"type\":\"Title\"},{\"attributes\":{},\"id\":\"1485\",\"type\":\"LinearScale\"},{\"attributes\":{},\"id\":\"1498\",\"type\":\"ResetTool\"},{\"attributes\":{\"axis_label\":\"AutoMaker\",\"bounds\":\"auto\",\"formatter\":{\"id\":\"1516\"},\"major_label_orientation\":\"horizontal\",\"ticker\":{\"id\":\"1488\"}},\"id\":\"1487\",\"type\":\"CategoricalAxis\"},{\"attributes\":{\"bottom_units\":\"screen\",\"fill_alpha\":0.5,\"fill_color\":\"lightgrey\",\"left_units\":\"screen\",\"level\":\"overlay\",\"line_alpha\":1.0,\"line_color\":\"black\",\"line_dash\":[4,4],\"line_width\":2,\"right_units\":\"screen\",\"top_units\":\"screen\"},\"id\":\"1499\",\"type\":\"BoxAnnotation\"},{\"attributes\":{},\"id\":\"1496\",\"type\":\"WheelZoomTool\"},{\"attributes\":{},\"id\":\"1494\",\"type\":\"SaveTool\"}],\"root_ids\":[\"1473\"]},\"title\":\"Bokeh Application\",\"version\":\"2.1.1\"}};\n",
       "  var render_items = [{\"docid\":\"be6bde93-4804-4f52-9747-f6feafcedc70\",\"root_ids\":[\"1473\"],\"roots\":{\"1473\":\"84f40e01-a40e-4313-b4c4-c70576167a89\"}}];\n",
       "  root.Bokeh.embed.embed_items_notebook(docs_json, render_items);\n",
       "  }\n",
       "if (root.Bokeh !== undefined) {\n",
       "    embed_document(root);\n",
       "  } else {\n",
       "    var attempts = 0;\n",
       "    var timer = setInterval(function(root) {\n",
       "      if (root.Bokeh !== undefined) {\n",
       "        clearInterval(timer);\n",
       "        embed_document(root);\n",
       "      } else if (document.readyState == \"complete\") {\n",
       "        attempts++;\n",
       "        if (attempts > 100) {\n",
       "          clearInterval(timer);\n",
       "          console.log(\"Bokeh: ERROR: Unable to run BokehJS code because BokehJS library is missing\");\n",
       "        }\n",
       "      }\n",
       "    }, 10, root)\n",
       "  }\n",
       "})(window);</script>"
      ],
      "text/plain": [
       ":Area   [AutoMaker]   (Cumulative Number of EVs Sold)"
      ]
     },
     "execution_count": 32,
     "metadata": {
      "application/vnd.holoviews_exec.v0+json": {
       "id": "1473"
      }
     },
     "output_type": "execute_result"
    }
   ],
   "source": [
    "ev_sale.hvplot.area(x='AutoMaker', y=['Cumulative Number of EVs Sold'], color= \"green\")"
   ]
  },
  {
   "cell_type": "code",
   "execution_count": 35,
   "metadata": {},
   "outputs": [
    {
     "data": {
      "application/vnd.holoviews_exec.v0+json": "",
      "text/html": [
       "<div id='1690'>\n",
       "\n",
       "\n",
       "\n",
       "\n",
       "\n",
       "  <div class=\"bk-root\" id=\"d4b4fe97-e7a9-4fe8-9e22-3c353ca598f6\" data-root-id=\"1690\"></div>\n",
       "</div>\n",
       "<script type=\"application/javascript\">(function(root) {\n",
       "  function embed_document(root) {\n",
       "  var docs_json = {\"8243ac29-5f57-4a8e-b97e-817f468b96c4\":{\"roots\":{\"references\":[{\"attributes\":{\"margin\":[5,5,5,5],\"name\":\"HSpacer03478\",\"sizing_mode\":\"stretch_width\"},\"id\":\"1752\",\"type\":\"Spacer\"},{\"attributes\":{\"active_drag\":\"auto\",\"active_inspect\":\"auto\",\"active_multi\":null,\"active_scroll\":\"auto\",\"active_tap\":\"auto\",\"tools\":[{\"id\":\"1694\"},{\"id\":\"1711\"},{\"id\":\"1712\"},{\"id\":\"1713\"},{\"id\":\"1714\"},{\"id\":\"1715\"}]},\"id\":\"1717\",\"type\":\"Toolbar\"},{\"attributes\":{},\"id\":\"1705\",\"type\":\"CategoricalTicker\"},{\"attributes\":{},\"id\":\"1711\",\"type\":\"SaveTool\"},{\"attributes\":{},\"id\":\"1700\",\"type\":\"CategoricalScale\"},{\"attributes\":{},\"id\":\"1708\",\"type\":\"BasicTicker\"},{\"attributes\":{\"bottom_units\":\"screen\",\"fill_alpha\":0.5,\"fill_color\":\"lightgrey\",\"left_units\":\"screen\",\"level\":\"overlay\",\"line_alpha\":1.0,\"line_color\":\"black\",\"line_dash\":[4,4],\"line_width\":2,\"right_units\":\"screen\",\"top_units\":\"screen\"},\"id\":\"1716\",\"type\":\"BoxAnnotation\"},{\"attributes\":{},\"id\":\"1713\",\"type\":\"WheelZoomTool\"},{\"attributes\":{\"axis_label\":\"Cumulative Number of EVs Sold\",\"bounds\":\"auto\",\"formatter\":{\"id\":\"1734\"},\"major_label_orientation\":\"horizontal\",\"ticker\":{\"id\":\"1708\"}},\"id\":\"1707\",\"type\":\"LinearAxis\"},{\"attributes\":{\"end\":418324.9,\"reset_end\":418324.9,\"reset_start\":-27293.9,\"start\":-27293.9,\"tags\":[[[\"Cumulative Number of EVs Sold\",\"Cumulative Number of EVs Sold\",null]]]},\"id\":\"1693\",\"type\":\"Range1d\"},{\"attributes\":{\"axis_label\":\"AutoMaker\",\"bounds\":\"auto\",\"formatter\":{\"id\":\"1733\"},\"major_label_orientation\":1.5707963267948966,\"ticker\":{\"id\":\"1705\"}},\"id\":\"1704\",\"type\":\"CategoricalAxis\"},{\"attributes\":{\"line_color\":\"gold\",\"line_width\":2,\"x\":{\"field\":\"AutoMaker\"},\"y\":{\"field\":\"Cumulative Number of EVs Sold\"}},\"id\":\"1727\",\"type\":\"Line\"},{\"attributes\":{},\"id\":\"1734\",\"type\":\"BasicTickFormatter\"},{\"attributes\":{},\"id\":\"1733\",\"type\":\"CategoricalTickFormatter\"},{\"attributes\":{\"source\":{\"id\":\"1724\"}},\"id\":\"1731\",\"type\":\"CDSView\"},{\"attributes\":{},\"id\":\"1742\",\"type\":\"UnionRenderers\"},{\"attributes\":{\"overlay\":{\"id\":\"1716\"}},\"id\":\"1714\",\"type\":\"BoxZoomTool\"},{\"attributes\":{\"children\":[{\"id\":\"1691\"},{\"id\":\"1695\"},{\"id\":\"1752\"}],\"margin\":[0,0,0,0],\"name\":\"Row03473\",\"tags\":[\"embedded\"]},\"id\":\"1690\",\"type\":\"Row\"},{\"attributes\":{},\"id\":\"1702\",\"type\":\"LinearScale\"},{\"attributes\":{},\"id\":\"1715\",\"type\":\"ResetTool\"},{\"attributes\":{},\"id\":\"1725\",\"type\":\"Selection\"},{\"attributes\":{\"data_source\":{\"id\":\"1724\"},\"glyph\":{\"id\":\"1727\"},\"hover_glyph\":null,\"muted_glyph\":{\"id\":\"1729\"},\"nonselection_glyph\":{\"id\":\"1728\"},\"selection_glyph\":null,\"view\":{\"id\":\"1731\"}},\"id\":\"1730\",\"type\":\"GlyphRenderer\"},{\"attributes\":{\"line_alpha\":0.2,\"line_color\":\"gold\",\"line_width\":2,\"x\":{\"field\":\"AutoMaker\"},\"y\":{\"field\":\"Cumulative Number of EVs Sold\"}},\"id\":\"1729\",\"type\":\"Line\"},{\"attributes\":{\"data\":{\"AutoMaker\":[\"Tasla\",\"GM\",\"Nissan\",\"Ford\",\"Toyota\",\"BMW\",\"Fiat Chrysler\\n\",\"Volkswagen\",\"Honda\",\"Hyundai-Kia\",\"Daimler\",\"Volvo\"],\"Cumulative Number of EVs Sold\":{\"__ndarray__\":\"AAAAABhEF0EAAAAAGNQJQQAAAAD4/gBBAAAAABDp+0AAAAAA4Gb4QAAAAAAA+PRAAAAAAOB140AAAAAAwD7hQAAAAADA/dpAAAAAAMDQ1UAAAAAAgM7SQAAAAACAOMNA\",\"dtype\":\"float64\",\"order\":\"little\",\"shape\":[12]},\"Cumulative_Number_of_EVs_Sold\":{\"__ndarray__\":\"AAAAABhEF0EAAAAAGNQJQQAAAAD4/gBBAAAAABDp+0AAAAAA4Gb4QAAAAAAA+PRAAAAAAOB140AAAAAAwD7hQAAAAADA/dpAAAAAAMDQ1UAAAAAAgM7SQAAAAACAOMNA\",\"dtype\":\"float64\",\"order\":\"little\",\"shape\":[12]}},\"selected\":{\"id\":\"1725\"},\"selection_policy\":{\"id\":\"1742\"}},\"id\":\"1724\",\"type\":\"ColumnDataSource\"},{\"attributes\":{\"margin\":[5,5,5,5],\"name\":\"HSpacer03477\",\"sizing_mode\":\"stretch_width\"},\"id\":\"1691\",\"type\":\"Spacer\"},{\"attributes\":{\"axis\":{\"id\":\"1707\"},\"dimension\":1,\"grid_line_color\":null,\"ticker\":null},\"id\":\"1710\",\"type\":\"Grid\"},{\"attributes\":{\"line_alpha\":0.1,\"line_color\":\"gold\",\"line_width\":2,\"x\":{\"field\":\"AutoMaker\"},\"y\":{\"field\":\"Cumulative Number of EVs Sold\"}},\"id\":\"1728\",\"type\":\"Line\"},{\"attributes\":{\"factors\":[\"Tasla\",\"GM\",\"Nissan\",\"Ford\",\"Toyota\",\"BMW\",\"Fiat Chrysler\\n\",\"Volkswagen\",\"Honda\",\"Hyundai-Kia\",\"Daimler\",\"Volvo\"],\"tags\":[[[\"AutoMaker\",\"AutoMaker\",null]]]},\"id\":\"1692\",\"type\":\"FactorRange\"},{\"attributes\":{\"text\":\"\",\"text_color\":{\"value\":\"black\"},\"text_font_size\":{\"value\":\"12pt\"}},\"id\":\"1696\",\"type\":\"Title\"},{\"attributes\":{\"align\":null,\"background_fill_color\":\"Black\",\"below\":[{\"id\":\"1704\"}],\"center\":[{\"id\":\"1706\"},{\"id\":\"1710\"}],\"left\":[{\"id\":\"1707\"}],\"margin\":null,\"min_border_bottom\":10,\"min_border_left\":10,\"min_border_right\":10,\"min_border_top\":10,\"plot_height\":450,\"plot_width\":450,\"renderers\":[{\"id\":\"1730\"}],\"sizing_mode\":\"fixed\",\"title\":{\"id\":\"1696\"},\"toolbar\":{\"id\":\"1717\"},\"x_range\":{\"id\":\"1692\"},\"x_scale\":{\"id\":\"1700\"},\"y_range\":{\"id\":\"1693\"},\"y_scale\":{\"id\":\"1702\"}},\"id\":\"1695\",\"subtype\":\"Figure\",\"type\":\"Plot\"},{\"attributes\":{\"axis\":{\"id\":\"1704\"},\"grid_line_color\":null,\"ticker\":null},\"id\":\"1706\",\"type\":\"Grid\"},{\"attributes\":{\"callback\":null,\"renderers\":[{\"id\":\"1730\"}],\"tags\":[\"hv_created\"],\"tooltips\":[[\"AutoMaker\",\"@{AutoMaker}\"],[\"Cumulative Number of EVs Sold\",\"@{Cumulative_Number_of_EVs_Sold}\"]]},\"id\":\"1694\",\"type\":\"HoverTool\"},{\"attributes\":{},\"id\":\"1712\",\"type\":\"PanTool\"}],\"root_ids\":[\"1690\"]},\"title\":\"Bokeh Application\",\"version\":\"2.1.1\"}};\n",
       "  var render_items = [{\"docid\":\"8243ac29-5f57-4a8e-b97e-817f468b96c4\",\"root_ids\":[\"1690\"],\"roots\":{\"1690\":\"d4b4fe97-e7a9-4fe8-9e22-3c353ca598f6\"}}];\n",
       "  root.Bokeh.embed.embed_items_notebook(docs_json, render_items);\n",
       "  }\n",
       "if (root.Bokeh !== undefined) {\n",
       "    embed_document(root);\n",
       "  } else {\n",
       "    var attempts = 0;\n",
       "    var timer = setInterval(function(root) {\n",
       "      if (root.Bokeh !== undefined) {\n",
       "        clearInterval(timer);\n",
       "        embed_document(root);\n",
       "      } else if (document.readyState == \"complete\") {\n",
       "        attempts++;\n",
       "        if (attempts > 100) {\n",
       "          clearInterval(timer);\n",
       "          console.log(\"Bokeh: ERROR: Unable to run BokehJS code because BokehJS library is missing\");\n",
       "        }\n",
       "      }\n",
       "    }, 10, root)\n",
       "  }\n",
       "})(window);</script>"
      ],
      "text/plain": [
       ":Curve   [AutoMaker]   (Cumulative Number of EVs Sold)"
      ]
     },
     "execution_count": 35,
     "metadata": {
      "application/vnd.holoviews_exec.v0+json": {
       "id": "1690"
      }
     },
     "output_type": "execute_result"
    }
   ],
   "source": [
    "ev_sale.hvplot.line(rot= 90,height=450,width=450,x='AutoMaker', y=['Cumulative Number of EVs Sold'],color=\"gold\").opts(bgcolor=\"Black\")"
   ]
  },
  {
   "cell_type": "code",
   "execution_count": null,
   "metadata": {},
   "outputs": [],
   "source": []
  }
 ],
 "metadata": {
  "kernelspec": {
   "display_name": "Python [conda env:pyvizenv] *",
   "language": "python",
   "name": "conda-env-pyvizenv-py"
  },
  "language_info": {
   "codemirror_mode": {
    "name": "ipython",
    "version": 3
   },
   "file_extension": ".py",
   "mimetype": "text/x-python",
   "name": "python",
   "nbconvert_exporter": "python",
   "pygments_lexer": "ipython3",
   "version": "3.7.7"
  }
 },
 "nbformat": 4,
 "nbformat_minor": 4
}
