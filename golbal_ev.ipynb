{
 "cells": [
  {
   "cell_type": "code",
   "execution_count": 8,
   "metadata": {},
   "outputs": [],
   "source": [
    "import panel as pn\n",
    "pn.extension('plotly')\n",
    "import plotly.express as px\n",
    "import pandas as pd\n",
    "import hvplot.pandas\n",
    "import matplotlib.pyplot as plt\n",
    "import os\n",
    "from pathlib import Path\n",
    "from dotenv import load_dotenv"
   ]
  },
  {
   "cell_type": "code",
   "execution_count": 3,
   "metadata": {},
   "outputs": [
    {
     "data": {
      "text/html": [
       "<div>\n",
       "<style scoped>\n",
       "    .dataframe tbody tr th:only-of-type {\n",
       "        vertical-align: middle;\n",
       "    }\n",
       "\n",
       "    .dataframe tbody tr th {\n",
       "        vertical-align: top;\n",
       "    }\n",
       "\n",
       "    .dataframe thead th {\n",
       "        text-align: right;\n",
       "    }\n",
       "</style>\n",
       "<table border=\"1\" class=\"dataframe\">\n",
       "  <thead>\n",
       "    <tr style=\"text-align: right;\">\n",
       "      <th></th>\n",
       "      <th>COUNTRY</th>\n",
       "      <th>2015</th>\n",
       "      <th>2016</th>\n",
       "      <th>2017</th>\n",
       "      <th>2018</th>\n",
       "      <th>2019</th>\n",
       "      <th>2020</th>\n",
       "    </tr>\n",
       "  </thead>\n",
       "  <tbody>\n",
       "    <tr>\n",
       "      <th>0</th>\n",
       "      <td>China</td>\n",
       "      <td>220000.0</td>\n",
       "      <td>370000.0</td>\n",
       "      <td>663000.0</td>\n",
       "      <td>1170000.0</td>\n",
       "      <td>1100000.0</td>\n",
       "      <td>385000.0</td>\n",
       "    </tr>\n",
       "    <tr>\n",
       "      <th>1</th>\n",
       "      <td>Europe</td>\n",
       "      <td>200000.0</td>\n",
       "      <td>220000.0</td>\n",
       "      <td>306000.0</td>\n",
       "      <td>400000.0</td>\n",
       "      <td>590000.0</td>\n",
       "      <td>414000.0</td>\n",
       "    </tr>\n",
       "    <tr>\n",
       "      <th>2</th>\n",
       "      <td>U.S.</td>\n",
       "      <td>120000.0</td>\n",
       "      <td>160000.0</td>\n",
       "      <td>200000.0</td>\n",
       "      <td>360000.0</td>\n",
       "      <td>330000.0</td>\n",
       "      <td>111000.0</td>\n",
       "    </tr>\n",
       "    <tr>\n",
       "      <th>3</th>\n",
       "      <td>Japan</td>\n",
       "      <td>30000.0</td>\n",
       "      <td>30000.0</td>\n",
       "      <td>50000.0</td>\n",
       "      <td>50000.0</td>\n",
       "      <td>40000.0</td>\n",
       "      <td>14000.0</td>\n",
       "    </tr>\n",
       "    <tr>\n",
       "      <th>4</th>\n",
       "      <td>Others</td>\n",
       "      <td>10000.0</td>\n",
       "      <td>20000.0</td>\n",
       "      <td>50000.0</td>\n",
       "      <td>110000.0</td>\n",
       "      <td>110000.0</td>\n",
       "      <td>65000.0</td>\n",
       "    </tr>\n",
       "  </tbody>\n",
       "</table>\n",
       "</div>"
      ],
      "text/plain": [
       "  COUNTRY      2015      2016      2017       2018       2019      2020\n",
       "0   China  220000.0  370000.0  663000.0  1170000.0  1100000.0  385000.0\n",
       "1  Europe  200000.0  220000.0  306000.0   400000.0   590000.0  414000.0\n",
       "2    U.S.  120000.0  160000.0  200000.0   360000.0   330000.0  111000.0\n",
       "3   Japan   30000.0   30000.0   50000.0    50000.0    40000.0   14000.0\n",
       "4  Others   10000.0   20000.0   50000.0   110000.0   110000.0   65000.0"
      ]
     },
     "execution_count": 3,
     "metadata": {},
     "output_type": "execute_result"
    }
   ],
   "source": [
    "# Read the census data into a Pandas DataFrame\n",
    "file_path = Path(\"global_ev_sales_data.csv\")\n",
    "ev_data = pd.read_csv(file_path, skiprows=2)\n",
    "ev_data['2015'] = ev_data['2015'].apply(lambda x: x.replace(\",\",\"\"))\n",
    "ev_data['2016'] = ev_data['2016'].apply(lambda x: x.replace(\",\",\"\"))\n",
    "ev_data['2017'] = ev_data['2017'].apply(lambda x: x.replace(\",\",\"\"))\n",
    "ev_data['2018'] = ev_data['2018'].apply(lambda x: x.replace(\",\",\"\"))\n",
    "ev_data['2019'] = ev_data['2019'].apply(lambda x: x.replace(\",\",\"\"))\n",
    "ev_data['2020'] = ev_data['2020'].apply(lambda x: x.replace(\",\",\"\"))\n",
    "ev_data = ev_data.astype({\"COUNTRY\": str, \"2015\": float, \"2016\": float, \"2017\": float, \"2018\": float, \"2019\": float, \"2020\": float})\n",
    "ev_data.head()"
   ]
  },
  {
   "cell_type": "code",
   "execution_count": 7,
   "metadata": {},
   "outputs": [
    {
     "data": {
      "application/vnd.holoviews_exec.v0+json": "",
      "text/html": [
       "<div id='1203'>\n",
       "\n",
       "\n",
       "\n",
       "\n",
       "\n",
       "  <div class=\"bk-root\" id=\"fa3c7c9e-7c6d-407f-b529-2c30bc953799\" data-root-id=\"1203\"></div>\n",
       "</div>\n",
       "<script type=\"application/javascript\">(function(root) {\n",
       "  function embed_document(root) {\n",
       "  var docs_json = {\"fda54ace-700e-4706-8db5-3d3eae899aba\":{\"roots\":{\"references\":[{\"attributes\":{\"active_drag\":\"auto\",\"active_inspect\":\"auto\",\"active_multi\":null,\"active_scroll\":\"auto\",\"active_tap\":\"auto\",\"tools\":[{\"id\":\"1207\"},{\"id\":\"1224\"},{\"id\":\"1225\"},{\"id\":\"1226\"},{\"id\":\"1227\"},{\"id\":\"1228\"}]},\"id\":\"1230\",\"type\":\"Toolbar\"},{\"attributes\":{\"margin\":[5,5,5,5],\"name\":\"HSpacer02171\",\"sizing_mode\":\"stretch_width\"},\"id\":\"1204\",\"type\":\"Spacer\"},{\"attributes\":{\"axis_label\":\"\",\"bounds\":\"auto\",\"formatter\":{\"id\":\"1246\"},\"major_label_orientation\":\"horizontal\",\"ticker\":{\"id\":\"1221\"}},\"id\":\"1220\",\"type\":\"LinearAxis\"},{\"attributes\":{},\"id\":\"1221\",\"type\":\"BasicTicker\"},{\"attributes\":{\"end\":1286000.0,\"reset_end\":1286000.0,\"reset_start\":0.0,\"tags\":[[[\"value\",\"value\",null]]]},\"id\":\"1206\",\"type\":\"Range1d\"},{\"attributes\":{\"data_source\":{\"id\":\"1238\"},\"glyph\":{\"id\":\"1241\"},\"hover_glyph\":null,\"muted_glyph\":{\"id\":\"1243\"},\"nonselection_glyph\":{\"id\":\"1242\"},\"selection_glyph\":null,\"view\":{\"id\":\"1245\"}},\"id\":\"1244\",\"type\":\"GlyphRenderer\"},{\"attributes\":{\"axis\":{\"id\":\"1220\"},\"dimension\":1,\"grid_line_color\":null,\"ticker\":null},\"id\":\"1223\",\"type\":\"Grid\"},{\"attributes\":{\"factors\":[[\"China\",\"2015\"],[\"China\",\"2016\"],[\"China\",\"2017\"],[\"China\",\"2018\"],[\"China\",\"2019\"],[\"China\",\"2020\"],[\"Europe\",\"2015\"],[\"Europe\",\"2016\"],[\"Europe\",\"2017\"],[\"Europe\",\"2018\"],[\"Europe\",\"2019\"],[\"Europe\",\"2020\"],[\"U.S.\",\"2015\"],[\"U.S.\",\"2016\"],[\"U.S.\",\"2017\"],[\"U.S.\",\"2018\"],[\"U.S.\",\"2019\"],[\"U.S.\",\"2020\"],[\"Japan\",\"2015\"],[\"Japan\",\"2016\"],[\"Japan\",\"2017\"],[\"Japan\",\"2018\"],[\"Japan\",\"2019\"],[\"Japan\",\"2020\"],[\"Others\",\"2015\"],[\"Others\",\"2016\"],[\"Others\",\"2017\"],[\"Others\",\"2018\"],[\"Others\",\"2019\"],[\"Others\",\"2020\"]],\"tags\":[[[\"COUNTRY\",\"COUNTRY\",null],[\"Variable\",\"Variable\",null]]]},\"id\":\"1205\",\"type\":\"FactorRange\"},{\"attributes\":{\"data\":{\"COUNTRY\":[\"China\",\"Europe\",\"U.S.\",\"Japan\",\"Others\",\"China\",\"Europe\",\"U.S.\",\"Japan\",\"Others\",\"China\",\"Europe\",\"U.S.\",\"Japan\",\"Others\",\"China\",\"Europe\",\"U.S.\",\"Japan\",\"Others\",\"China\",\"Europe\",\"U.S.\",\"Japan\",\"Others\",\"China\",\"Europe\",\"U.S.\",\"Japan\",\"Others\"],\"Variable\":[\"2015\",\"2015\",\"2015\",\"2015\",\"2015\",\"2016\",\"2016\",\"2016\",\"2016\",\"2016\",\"2017\",\"2017\",\"2017\",\"2017\",\"2017\",\"2018\",\"2018\",\"2018\",\"2018\",\"2018\",\"2019\",\"2019\",\"2019\",\"2019\",\"2019\",\"2020\",\"2020\",\"2020\",\"2020\",\"2020\"],\"value\":{\"__ndarray__\":\"AAAAAADbCkEAAAAAAGoIQQAAAAAATP1AAAAAAABM3UAAAAAAAIjDQAAAAABAlRZBAAAAAADbCkEAAAAAAIgDQQAAAAAATN1AAAAAAACI00AAAAAAsDskQQAAAABArRJBAAAAAABqCEEAAAAAAGroQAAAAAAAauhAAAAAAFDaMUEAAAAAAGoYQQAAAAAA+RVBAAAAAABq6EAAAAAAANv6QAAAAADgyDBBAAAAAGABIkEAAAAAQCQUQQAAAAAAiONAAAAAAADb+kAAAAAAoH8XQQAAAADARBlBAAAAAIAZ+0AAAAAAAFjLQAAAAAAAve9A\",\"dtype\":\"float64\",\"order\":\"little\",\"shape\":[30]},\"xoffsets\":[[\"China\",\"2015\"],[\"Europe\",\"2015\"],[\"U.S.\",\"2015\"],[\"Japan\",\"2015\"],[\"Others\",\"2015\"],[\"China\",\"2016\"],[\"Europe\",\"2016\"],[\"U.S.\",\"2016\"],[\"Japan\",\"2016\"],[\"Others\",\"2016\"],[\"China\",\"2017\"],[\"Europe\",\"2017\"],[\"U.S.\",\"2017\"],[\"Japan\",\"2017\"],[\"Others\",\"2017\"],[\"China\",\"2018\"],[\"Europe\",\"2018\"],[\"U.S.\",\"2018\"],[\"Japan\",\"2018\"],[\"Others\",\"2018\"],[\"China\",\"2019\"],[\"Europe\",\"2019\"],[\"U.S.\",\"2019\"],[\"Japan\",\"2019\"],[\"Others\",\"2019\"],[\"China\",\"2020\"],[\"Europe\",\"2020\"],[\"U.S.\",\"2020\"],[\"Japan\",\"2020\"],[\"Others\",\"2020\"]]},\"selected\":{\"id\":\"1239\"},\"selection_policy\":{\"id\":\"1257\"}},\"id\":\"1238\",\"type\":\"ColumnDataSource\"},{\"attributes\":{\"children\":[{\"id\":\"1204\"},{\"id\":\"1208\"},{\"id\":\"1267\"}],\"margin\":[0,0,0,0],\"name\":\"Row02167\",\"tags\":[\"embedded\"]},\"id\":\"1203\",\"type\":\"Row\"},{\"attributes\":{},\"id\":\"1257\",\"type\":\"UnionRenderers\"},{\"attributes\":{\"fill_alpha\":{\"value\":0.2},\"fill_color\":{\"field\":\"Variable\",\"transform\":{\"id\":\"1237\"}},\"line_alpha\":{\"value\":0.2},\"top\":{\"field\":\"value\"},\"width\":{\"value\":0.8},\"x\":{\"field\":\"xoffsets\"}},\"id\":\"1243\",\"type\":\"VBar\"},{\"attributes\":{},\"id\":\"1225\",\"type\":\"PanTool\"},{\"attributes\":{\"factors\":[\"2015\",\"2016\",\"2017\",\"2018\",\"2019\",\"2020\"],\"palette\":[\"gold\",\"gold\",\"gold\",\"gold\",\"gold\",\"gold\"]},\"id\":\"1237\",\"type\":\"CategoricalColorMapper\"},{\"attributes\":{},\"id\":\"1218\",\"type\":\"CategoricalTicker\"},{\"attributes\":{\"overlay\":{\"id\":\"1229\"}},\"id\":\"1227\",\"type\":\"BoxZoomTool\"},{\"attributes\":{\"axis_label\":\"COUNTRY, Variable\",\"bounds\":\"auto\",\"formatter\":{\"id\":\"1248\"},\"major_label_orientation\":1.5707963267948966,\"ticker\":{\"id\":\"1218\"}},\"id\":\"1217\",\"type\":\"CategoricalAxis\"},{\"attributes\":{\"source\":{\"id\":\"1238\"}},\"id\":\"1245\",\"type\":\"CDSView\"},{\"attributes\":{},\"id\":\"1228\",\"type\":\"ResetTool\"},{\"attributes\":{\"margin\":[5,5,5,5],\"name\":\"HSpacer02172\",\"sizing_mode\":\"stretch_width\"},\"id\":\"1267\",\"type\":\"Spacer\"},{\"attributes\":{},\"id\":\"1239\",\"type\":\"Selection\"},{\"attributes\":{\"bottom_units\":\"screen\",\"fill_alpha\":0.5,\"fill_color\":\"lightgrey\",\"left_units\":\"screen\",\"level\":\"overlay\",\"line_alpha\":1.0,\"line_color\":\"black\",\"line_dash\":[4,4],\"line_width\":2,\"right_units\":\"screen\",\"top_units\":\"screen\"},\"id\":\"1229\",\"type\":\"BoxAnnotation\"},{\"attributes\":{\"axis\":{\"id\":\"1217\"},\"grid_line_color\":null,\"ticker\":null},\"id\":\"1219\",\"type\":\"Grid\"},{\"attributes\":{\"format\":\"%.0f\"},\"id\":\"1246\",\"type\":\"PrintfTickFormatter\"},{\"attributes\":{\"align\":null,\"below\":[{\"id\":\"1217\"}],\"center\":[{\"id\":\"1219\"},{\"id\":\"1223\"}],\"left\":[{\"id\":\"1220\"}],\"margin\":null,\"min_border_bottom\":10,\"min_border_left\":10,\"min_border_right\":10,\"min_border_top\":10,\"plot_height\":450,\"plot_width\":450,\"renderers\":[{\"id\":\"1244\"}],\"sizing_mode\":\"fixed\",\"title\":{\"id\":\"1209\"},\"toolbar\":{\"id\":\"1230\"},\"x_range\":{\"id\":\"1205\"},\"x_scale\":{\"id\":\"1213\"},\"y_range\":{\"id\":\"1206\"},\"y_scale\":{\"id\":\"1215\"}},\"id\":\"1208\",\"subtype\":\"Figure\",\"type\":\"Plot\"},{\"attributes\":{},\"id\":\"1224\",\"type\":\"SaveTool\"},{\"attributes\":{},\"id\":\"1226\",\"type\":\"WheelZoomTool\"},{\"attributes\":{},\"id\":\"1213\",\"type\":\"CategoricalScale\"},{\"attributes\":{\"fill_alpha\":{\"value\":0.1},\"fill_color\":{\"field\":\"Variable\",\"transform\":{\"id\":\"1237\"}},\"line_alpha\":{\"value\":0.1},\"top\":{\"field\":\"value\"},\"width\":{\"value\":0.8},\"x\":{\"field\":\"xoffsets\"}},\"id\":\"1242\",\"type\":\"VBar\"},{\"attributes\":{\"fill_color\":{\"field\":\"Variable\",\"transform\":{\"id\":\"1237\"}},\"top\":{\"field\":\"value\"},\"width\":{\"value\":0.8},\"x\":{\"field\":\"xoffsets\"}},\"id\":\"1241\",\"type\":\"VBar\"},{\"attributes\":{\"text\":\"\",\"text_color\":{\"value\":\"black\"},\"text_font_size\":{\"value\":\"12pt\"}},\"id\":\"1209\",\"type\":\"Title\"},{\"attributes\":{},\"id\":\"1248\",\"type\":\"CategoricalTickFormatter\"},{\"attributes\":{\"callback\":null,\"renderers\":[{\"id\":\"1244\"}],\"tags\":[\"hv_created\"],\"tooltips\":[[\"COUNTRY\",\"@{COUNTRY}\"],[\"Variable\",\"@{Variable}\"],[\"value\",\"@{value}\"]]},\"id\":\"1207\",\"type\":\"HoverTool\"},{\"attributes\":{},\"id\":\"1215\",\"type\":\"LinearScale\"}],\"root_ids\":[\"1203\"]},\"title\":\"Bokeh Application\",\"version\":\"2.1.1\"}};\n",
       "  var render_items = [{\"docid\":\"fda54ace-700e-4706-8db5-3d3eae899aba\",\"root_ids\":[\"1203\"],\"roots\":{\"1203\":\"fa3c7c9e-7c6d-407f-b529-2c30bc953799\"}}];\n",
       "  root.Bokeh.embed.embed_items_notebook(docs_json, render_items);\n",
       "  }\n",
       "if (root.Bokeh !== undefined) {\n",
       "    embed_document(root);\n",
       "  } else {\n",
       "    var attempts = 0;\n",
       "    var timer = setInterval(function(root) {\n",
       "      if (root.Bokeh !== undefined) {\n",
       "        clearInterval(timer);\n",
       "        embed_document(root);\n",
       "      } else if (document.readyState == \"complete\") {\n",
       "        attempts++;\n",
       "        if (attempts > 100) {\n",
       "          clearInterval(timer);\n",
       "          console.log(\"Bokeh: ERROR: Unable to run BokehJS code because BokehJS library is missing\");\n",
       "        }\n",
       "      }\n",
       "    }, 10, root)\n",
       "  }\n",
       "})(window);</script>"
      ],
      "text/plain": [
       ":Bars   [COUNTRY,Variable]   (value)"
      ]
     },
     "execution_count": 7,
     "metadata": {
      "application/vnd.holoviews_exec.v0+json": {
       "id": "1203"
      }
     },
     "output_type": "execute_result"
    }
   ],
   "source": [
    "ev_data.hvplot.bar(rot= 90,height=450,width=450, x='COUNTRY', y=['2015','2016','2017','2018','2019','2020'],color=\"gold\").opts(yformatter=\"%.0f\")"
   ]
  },
  {
   "cell_type": "code",
   "execution_count": 5,
   "metadata": {},
   "outputs": [
    {
     "data": {
      "application/vnd.holoviews_exec.v0+json": "",
      "text/html": [
       "<div id='1102'>\n",
       "\n",
       "\n",
       "\n",
       "\n",
       "\n",
       "  <div class=\"bk-root\" id=\"e5247f39-14dc-4eff-a6b2-d7912c7e66d0\" data-root-id=\"1102\"></div>\n",
       "</div>\n",
       "<script type=\"application/javascript\">(function(root) {\n",
       "  function embed_document(root) {\n",
       "  var docs_json = {\"b198f26d-2284-4d95-8450-0ac838a88183\":{\"roots\":{\"references\":[{\"attributes\":{\"children\":[{\"id\":\"1103\"},{\"id\":\"1107\"},{\"id\":\"1166\"}],\"margin\":[0,0,0,0],\"name\":\"Row01873\",\"tags\":[\"embedded\"]},\"id\":\"1102\",\"type\":\"Row\"},{\"attributes\":{\"bottom_units\":\"screen\",\"fill_alpha\":0.5,\"fill_color\":\"lightgrey\",\"left_units\":\"screen\",\"level\":\"overlay\",\"line_alpha\":1.0,\"line_color\":\"black\",\"line_dash\":[4,4],\"line_width\":2,\"right_units\":\"screen\",\"top_units\":\"screen\"},\"id\":\"1128\",\"type\":\"BoxAnnotation\"},{\"attributes\":{\"margin\":[5,5,5,5],\"name\":\"HSpacer01877\",\"sizing_mode\":\"stretch_width\"},\"id\":\"1103\",\"type\":\"Spacer\"},{\"attributes\":{\"active_drag\":\"auto\",\"active_inspect\":\"auto\",\"active_multi\":null,\"active_scroll\":\"auto\",\"active_tap\":\"auto\",\"tools\":[{\"id\":\"1106\"},{\"id\":\"1123\"},{\"id\":\"1124\"},{\"id\":\"1125\"},{\"id\":\"1126\"},{\"id\":\"1127\"}]},\"id\":\"1129\",\"type\":\"Toolbar\"},{\"attributes\":{\"factors\":[\"2015\",\"2016\",\"2017\",\"2018\",\"2019\",\"2020\"],\"palette\":[\"#1f77b3\",\"#ff7e0e\",\"#2ba02b\",\"#d62628\",\"#9367bc\",\"#8c564b\"]},\"id\":\"1136\",\"type\":\"CategoricalColorMapper\"},{\"attributes\":{\"callback\":null,\"renderers\":[{\"id\":\"1143\"}],\"tags\":[\"hv_created\"],\"tooltips\":[[\"COUNTRY\",\"@{COUNTRY}\"],[\"Variable\",\"@{Variable}\"],[\"value\",\"@{value}\"]]},\"id\":\"1106\",\"type\":\"HoverTool\"},{\"attributes\":{},\"id\":\"1112\",\"type\":\"CategoricalScale\"},{\"attributes\":{},\"id\":\"1147\",\"type\":\"CategoricalTickFormatter\"},{\"attributes\":{\"align\":null,\"below\":[{\"id\":\"1116\"}],\"center\":[{\"id\":\"1118\"},{\"id\":\"1122\"}],\"left\":[{\"id\":\"1119\"}],\"margin\":null,\"min_border_bottom\":10,\"min_border_left\":10,\"min_border_right\":10,\"min_border_top\":10,\"plot_height\":300,\"plot_width\":700,\"renderers\":[{\"id\":\"1143\"}],\"sizing_mode\":\"fixed\",\"title\":{\"id\":\"1108\"},\"toolbar\":{\"id\":\"1129\"},\"x_range\":{\"id\":\"1104\"},\"x_scale\":{\"id\":\"1112\"},\"y_range\":{\"id\":\"1105\"},\"y_scale\":{\"id\":\"1114\"}},\"id\":\"1107\",\"subtype\":\"Figure\",\"type\":\"Plot\"},{\"attributes\":{},\"id\":\"1124\",\"type\":\"PanTool\"},{\"attributes\":{\"axis_label\":\"COUNTRY, Variable\",\"bounds\":\"auto\",\"formatter\":{\"id\":\"1147\"},\"major_label_orientation\":1.5707963267948966,\"ticker\":{\"id\":\"1117\"}},\"id\":\"1116\",\"type\":\"CategoricalAxis\"},{\"attributes\":{\"text\":\"\",\"text_color\":{\"value\":\"black\"},\"text_font_size\":{\"value\":\"12pt\"}},\"id\":\"1108\",\"type\":\"Title\"},{\"attributes\":{\"data\":{\"COUNTRY\":[\"China\",\"Europe\",\"U.S.\",\"Japan\",\"Others\",\"China\",\"Europe\",\"U.S.\",\"Japan\",\"Others\",\"China\",\"Europe\",\"U.S.\",\"Japan\",\"Others\",\"China\",\"Europe\",\"U.S.\",\"Japan\",\"Others\",\"China\",\"Europe\",\"U.S.\",\"Japan\",\"Others\",\"China\",\"Europe\",\"U.S.\",\"Japan\",\"Others\"],\"Variable\":[\"2015\",\"2015\",\"2015\",\"2015\",\"2015\",\"2016\",\"2016\",\"2016\",\"2016\",\"2016\",\"2017\",\"2017\",\"2017\",\"2017\",\"2017\",\"2018\",\"2018\",\"2018\",\"2018\",\"2018\",\"2019\",\"2019\",\"2019\",\"2019\",\"2019\",\"2020\",\"2020\",\"2020\",\"2020\",\"2020\"],\"value\":{\"__ndarray__\":\"AAAAAADbCkEAAAAAAGoIQQAAAAAATP1AAAAAAABM3UAAAAAAAIjDQAAAAABAlRZBAAAAAADbCkEAAAAAAIgDQQAAAAAATN1AAAAAAACI00AAAAAAsDskQQAAAABArRJBAAAAAABqCEEAAAAAAGroQAAAAAAAauhAAAAAAFDaMUEAAAAAAGoYQQAAAAAA+RVBAAAAAABq6EAAAAAAANv6QAAAAADgyDBBAAAAAGABIkEAAAAAQCQUQQAAAAAAiONAAAAAAADb+kAAAAAAoH8XQQAAAADARBlBAAAAAIAZ+0AAAAAAAFjLQAAAAAAAve9A\",\"dtype\":\"float64\",\"order\":\"little\",\"shape\":[30]},\"xoffsets\":[[\"China\",\"2015\"],[\"Europe\",\"2015\"],[\"U.S.\",\"2015\"],[\"Japan\",\"2015\"],[\"Others\",\"2015\"],[\"China\",\"2016\"],[\"Europe\",\"2016\"],[\"U.S.\",\"2016\"],[\"Japan\",\"2016\"],[\"Others\",\"2016\"],[\"China\",\"2017\"],[\"Europe\",\"2017\"],[\"U.S.\",\"2017\"],[\"Japan\",\"2017\"],[\"Others\",\"2017\"],[\"China\",\"2018\"],[\"Europe\",\"2018\"],[\"U.S.\",\"2018\"],[\"Japan\",\"2018\"],[\"Others\",\"2018\"],[\"China\",\"2019\"],[\"Europe\",\"2019\"],[\"U.S.\",\"2019\"],[\"Japan\",\"2019\"],[\"Others\",\"2019\"],[\"China\",\"2020\"],[\"Europe\",\"2020\"],[\"U.S.\",\"2020\"],[\"Japan\",\"2020\"],[\"Others\",\"2020\"]]},\"selected\":{\"id\":\"1138\"},\"selection_policy\":{\"id\":\"1156\"}},\"id\":\"1137\",\"type\":\"ColumnDataSource\"},{\"attributes\":{\"format\":\"%.0f\"},\"id\":\"1145\",\"type\":\"PrintfTickFormatter\"},{\"attributes\":{},\"id\":\"1114\",\"type\":\"LinearScale\"},{\"attributes\":{\"axis\":{\"id\":\"1119\"},\"dimension\":1,\"grid_line_color\":null,\"ticker\":null},\"id\":\"1122\",\"type\":\"Grid\"},{\"attributes\":{},\"id\":\"1138\",\"type\":\"Selection\"},{\"attributes\":{\"axis\":{\"id\":\"1116\"},\"grid_line_color\":null,\"ticker\":null},\"id\":\"1118\",\"type\":\"Grid\"},{\"attributes\":{},\"id\":\"1127\",\"type\":\"ResetTool\"},{\"attributes\":{},\"id\":\"1117\",\"type\":\"CategoricalTicker\"},{\"attributes\":{\"fill_alpha\":{\"value\":0.2},\"fill_color\":{\"field\":\"Variable\",\"transform\":{\"id\":\"1136\"}},\"line_alpha\":{\"value\":0.2},\"top\":{\"field\":\"value\"},\"width\":{\"value\":0.8},\"x\":{\"field\":\"xoffsets\"}},\"id\":\"1142\",\"type\":\"VBar\"},{\"attributes\":{},\"id\":\"1125\",\"type\":\"WheelZoomTool\"},{\"attributes\":{\"axis_label\":\"\",\"bounds\":\"auto\",\"formatter\":{\"id\":\"1145\"},\"major_label_orientation\":\"horizontal\",\"ticker\":{\"id\":\"1120\"}},\"id\":\"1119\",\"type\":\"LinearAxis\"},{\"attributes\":{},\"id\":\"1123\",\"type\":\"SaveTool\"},{\"attributes\":{},\"id\":\"1156\",\"type\":\"UnionRenderers\"},{\"attributes\":{},\"id\":\"1120\",\"type\":\"BasicTicker\"},{\"attributes\":{\"fill_alpha\":{\"value\":0.1},\"fill_color\":{\"field\":\"Variable\",\"transform\":{\"id\":\"1136\"}},\"line_alpha\":{\"value\":0.1},\"top\":{\"field\":\"value\"},\"width\":{\"value\":0.8},\"x\":{\"field\":\"xoffsets\"}},\"id\":\"1141\",\"type\":\"VBar\"},{\"attributes\":{\"overlay\":{\"id\":\"1128\"}},\"id\":\"1126\",\"type\":\"BoxZoomTool\"},{\"attributes\":{\"source\":{\"id\":\"1137\"}},\"id\":\"1144\",\"type\":\"CDSView\"},{\"attributes\":{\"end\":1286000.0,\"reset_end\":1286000.0,\"reset_start\":0.0,\"tags\":[[[\"value\",\"value\",null]]]},\"id\":\"1105\",\"type\":\"Range1d\"},{\"attributes\":{\"fill_color\":{\"field\":\"Variable\",\"transform\":{\"id\":\"1136\"}},\"top\":{\"field\":\"value\"},\"width\":{\"value\":0.8},\"x\":{\"field\":\"xoffsets\"}},\"id\":\"1140\",\"type\":\"VBar\"},{\"attributes\":{\"data_source\":{\"id\":\"1137\"},\"glyph\":{\"id\":\"1140\"},\"hover_glyph\":null,\"muted_glyph\":{\"id\":\"1142\"},\"nonselection_glyph\":{\"id\":\"1141\"},\"selection_glyph\":null,\"view\":{\"id\":\"1144\"}},\"id\":\"1143\",\"type\":\"GlyphRenderer\"},{\"attributes\":{\"factors\":[[\"China\",\"2015\"],[\"China\",\"2016\"],[\"China\",\"2017\"],[\"China\",\"2018\"],[\"China\",\"2019\"],[\"China\",\"2020\"],[\"Europe\",\"2015\"],[\"Europe\",\"2016\"],[\"Europe\",\"2017\"],[\"Europe\",\"2018\"],[\"Europe\",\"2019\"],[\"Europe\",\"2020\"],[\"U.S.\",\"2015\"],[\"U.S.\",\"2016\"],[\"U.S.\",\"2017\"],[\"U.S.\",\"2018\"],[\"U.S.\",\"2019\"],[\"U.S.\",\"2020\"],[\"Japan\",\"2015\"],[\"Japan\",\"2016\"],[\"Japan\",\"2017\"],[\"Japan\",\"2018\"],[\"Japan\",\"2019\"],[\"Japan\",\"2020\"],[\"Others\",\"2015\"],[\"Others\",\"2016\"],[\"Others\",\"2017\"],[\"Others\",\"2018\"],[\"Others\",\"2019\"],[\"Others\",\"2020\"]],\"tags\":[[[\"COUNTRY\",\"COUNTRY\",null],[\"Variable\",\"Variable\",null]]]},\"id\":\"1104\",\"type\":\"FactorRange\"},{\"attributes\":{\"margin\":[5,5,5,5],\"name\":\"HSpacer01878\",\"sizing_mode\":\"stretch_width\"},\"id\":\"1166\",\"type\":\"Spacer\"}],\"root_ids\":[\"1102\"]},\"title\":\"Bokeh Application\",\"version\":\"2.1.1\"}};\n",
       "  var render_items = [{\"docid\":\"b198f26d-2284-4d95-8450-0ac838a88183\",\"root_ids\":[\"1102\"],\"roots\":{\"1102\":\"e5247f39-14dc-4eff-a6b2-d7912c7e66d0\"}}];\n",
       "  root.Bokeh.embed.embed_items_notebook(docs_json, render_items);\n",
       "  }\n",
       "if (root.Bokeh !== undefined) {\n",
       "    embed_document(root);\n",
       "  } else {\n",
       "    var attempts = 0;\n",
       "    var timer = setInterval(function(root) {\n",
       "      if (root.Bokeh !== undefined) {\n",
       "        clearInterval(timer);\n",
       "        embed_document(root);\n",
       "      } else if (document.readyState == \"complete\") {\n",
       "        attempts++;\n",
       "        if (attempts > 100) {\n",
       "          clearInterval(timer);\n",
       "          console.log(\"Bokeh: ERROR: Unable to run BokehJS code because BokehJS library is missing\");\n",
       "        }\n",
       "      }\n",
       "    }, 10, root)\n",
       "  }\n",
       "})(window);</script>"
      ],
      "text/plain": [
       ":Bars   [COUNTRY,Variable]   (value)"
      ]
     },
     "execution_count": 5,
     "metadata": {
      "application/vnd.holoviews_exec.v0+json": {
       "id": "1102"
      }
     },
     "output_type": "execute_result"
    }
   ],
   "source": [
    "ev_data.hvplot.bar(x='COUNTRY', y=['2015','2016','2017','2018','2019','2020'], rot=90).opts(yformatter=\"%.0f\")\n"
   ]
  },
  {
   "cell_type": "code",
   "execution_count": 6,
   "metadata": {},
   "outputs": [
    {
     "name": "stdout",
     "output_type": "stream",
     "text": [
      "Year 2020, we use data from January to june, half yearly.\n"
     ]
    }
   ],
   "source": [
    "print(\"Year 2020, we use data from January to june, half yearly.\")"
   ]
  },
  {
   "cell_type": "code",
   "execution_count": null,
   "metadata": {},
   "outputs": [],
   "source": []
  }
 ],
 "metadata": {
  "kernelspec": {
   "display_name": "Python [conda env:pyvizenv] *",
   "language": "python",
   "name": "conda-env-pyvizenv-py"
  },
  "language_info": {
   "codemirror_mode": {
    "name": "ipython",
    "version": 3
   },
   "file_extension": ".py",
   "mimetype": "text/x-python",
   "name": "python",
   "nbconvert_exporter": "python",
   "pygments_lexer": "ipython3",
   "version": "3.7.7"
  }
 },
 "nbformat": 4,
 "nbformat_minor": 4
}
