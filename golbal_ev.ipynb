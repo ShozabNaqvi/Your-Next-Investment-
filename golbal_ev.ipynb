{
 "cells": [
  {
   "cell_type": "code",
   "execution_count": 39,
   "metadata": {},
   "outputs": [],
   "source": [
    "import panel as pn\n",
    "pn.extension('plotly')\n",
    "import plotly.express as px\n",
    "import pandas as pd\n",
    "import hvplot.pandas\n",
    "import matplotlib.pyplot as plt\n",
    "import os\n",
    "from pathlib import Path\n",
    "from dotenv import load_dotenv"
   ]
  },
  {
   "cell_type": "code",
   "execution_count": 48,
   "metadata": {},
   "outputs": [
    {
     "data": {
      "text/html": [
       "<div>\n",
       "<style scoped>\n",
       "    .dataframe tbody tr th:only-of-type {\n",
       "        vertical-align: middle;\n",
       "    }\n",
       "\n",
       "    .dataframe tbody tr th {\n",
       "        vertical-align: top;\n",
       "    }\n",
       "\n",
       "    .dataframe thead th {\n",
       "        text-align: right;\n",
       "    }\n",
       "</style>\n",
       "<table border=\"1\" class=\"dataframe\">\n",
       "  <thead>\n",
       "    <tr style=\"text-align: right;\">\n",
       "      <th></th>\n",
       "      <th>COUNTRY</th>\n",
       "      <th>2015</th>\n",
       "      <th>2016</th>\n",
       "      <th>2017</th>\n",
       "      <th>2018</th>\n",
       "      <th>2019</th>\n",
       "    </tr>\n",
       "  </thead>\n",
       "  <tbody>\n",
       "    <tr>\n",
       "      <th>0</th>\n",
       "      <td>China</td>\n",
       "      <td>220000.0</td>\n",
       "      <td>370000.0</td>\n",
       "      <td>663000.0</td>\n",
       "      <td>1170000.0</td>\n",
       "      <td>1100000.0</td>\n",
       "    </tr>\n",
       "    <tr>\n",
       "      <th>1</th>\n",
       "      <td>Europe</td>\n",
       "      <td>200000.0</td>\n",
       "      <td>220000.0</td>\n",
       "      <td>306000.0</td>\n",
       "      <td>400000.0</td>\n",
       "      <td>590000.0</td>\n",
       "    </tr>\n",
       "    <tr>\n",
       "      <th>2</th>\n",
       "      <td>U.S.</td>\n",
       "      <td>120000.0</td>\n",
       "      <td>160000.0</td>\n",
       "      <td>200000.0</td>\n",
       "      <td>360000.0</td>\n",
       "      <td>330000.0</td>\n",
       "    </tr>\n",
       "    <tr>\n",
       "      <th>3</th>\n",
       "      <td>Japan</td>\n",
       "      <td>30000.0</td>\n",
       "      <td>30000.0</td>\n",
       "      <td>50000.0</td>\n",
       "      <td>50000.0</td>\n",
       "      <td>40000.0</td>\n",
       "    </tr>\n",
       "    <tr>\n",
       "      <th>4</th>\n",
       "      <td>Others</td>\n",
       "      <td>10000.0</td>\n",
       "      <td>20000.0</td>\n",
       "      <td>50000.0</td>\n",
       "      <td>110000.0</td>\n",
       "      <td>110000.0</td>\n",
       "    </tr>\n",
       "  </tbody>\n",
       "</table>\n",
       "</div>"
      ],
      "text/plain": [
       "  COUNTRY      2015      2016      2017       2018       2019\n",
       "0   China  220000.0  370000.0  663000.0  1170000.0  1100000.0\n",
       "1  Europe  200000.0  220000.0  306000.0   400000.0   590000.0\n",
       "2    U.S.  120000.0  160000.0  200000.0   360000.0   330000.0\n",
       "3   Japan   30000.0   30000.0   50000.0    50000.0    40000.0\n",
       "4  Others   10000.0   20000.0   50000.0   110000.0   110000.0"
      ]
     },
     "execution_count": 48,
     "metadata": {},
     "output_type": "execute_result"
    }
   ],
   "source": [
    "# Read the census data into a Pandas DataFrame\n",
    "file_path = Path(\"global_ev_sales_data.csv\")\n",
    "ev_data = pd.read_csv(file_path, skiprows=2)\n",
    "ev_data['2015'] = ev_data['2015'].apply(lambda x: x.replace(\",\",\"\"))\n",
    "ev_data['2016'] = ev_data['2016'].apply(lambda x: x.replace(\",\",\"\"))\n",
    "ev_data['2017'] = ev_data['2017'].apply(lambda x: x.replace(\",\",\"\"))\n",
    "ev_data['2018'] = ev_data['2018'].apply(lambda x: x.replace(\",\",\"\"))\n",
    "ev_data['2019'] = ev_data['2019'].apply(lambda x: x.replace(\",\",\"\"))\n",
    "\n",
    "ev_data = ev_data.astype({\"COUNTRY\": str, \"2015\": float, \"2016\": float, \"2017\": float, \"2018\": float, \"2019\": float})\n",
    "ev_data.head()"
   ]
  },
  {
   "cell_type": "code",
   "execution_count": 49,
   "metadata": {},
   "outputs": [
    {
     "data": {
      "application/vnd.holoviews_exec.v0+json": "",
      "text/html": [
       "<div id='1749'>\n",
       "\n",
       "\n",
       "\n",
       "\n",
       "\n",
       "  <div class=\"bk-root\" id=\"681d2d25-39ec-4d77-b36a-5aec01a76630\" data-root-id=\"1749\"></div>\n",
       "</div>\n",
       "<script type=\"application/javascript\">(function(root) {\n",
       "  function embed_document(root) {\n",
       "  var docs_json = {\"f9e70aa4-a374-419a-85a7-7371f6d0c0ff\":{\"roots\":{\"references\":[{\"attributes\":{\"fill_alpha\":{\"value\":0.1},\"fill_color\":{\"field\":\"Variable\",\"transform\":{\"id\":\"1783\"}},\"line_alpha\":{\"value\":0.1},\"top\":{\"field\":\"value\"},\"width\":{\"value\":0.8},\"x\":{\"field\":\"xoffsets\"}},\"id\":\"1788\",\"type\":\"VBar\"},{\"attributes\":{\"text\":\"\",\"text_color\":{\"value\":\"black\"},\"text_font_size\":{\"value\":\"12pt\"}},\"id\":\"1755\",\"type\":\"Title\"},{\"attributes\":{\"fill_alpha\":{\"value\":0.2},\"fill_color\":{\"field\":\"Variable\",\"transform\":{\"id\":\"1783\"}},\"line_alpha\":{\"value\":0.2},\"top\":{\"field\":\"value\"},\"width\":{\"value\":0.8},\"x\":{\"field\":\"xoffsets\"}},\"id\":\"1789\",\"type\":\"VBar\"},{\"attributes\":{},\"id\":\"1792\",\"type\":\"CategoricalTickFormatter\"},{\"attributes\":{},\"id\":\"1795\",\"type\":\"BasicTickFormatter\"},{\"attributes\":{\"data\":{\"COUNTRY\":[\"China\",\"Europe\",\"U.S.\",\"Japan\",\"Others\",\"China\",\"Europe\",\"U.S.\",\"Japan\",\"Others\",\"China\",\"Europe\",\"U.S.\",\"Japan\",\"Others\",\"China\",\"Europe\",\"U.S.\",\"Japan\",\"Others\",\"China\",\"Europe\",\"U.S.\",\"Japan\",\"Others\"],\"Variable\":[\"2015\",\"2015\",\"2015\",\"2015\",\"2015\",\"2016\",\"2016\",\"2016\",\"2016\",\"2016\",\"2017\",\"2017\",\"2017\",\"2017\",\"2017\",\"2018\",\"2018\",\"2018\",\"2018\",\"2018\",\"2019\",\"2019\",\"2019\",\"2019\",\"2019\"],\"value\":{\"__ndarray__\":\"AAAAAADbCkEAAAAAAGoIQQAAAAAATP1AAAAAAABM3UAAAAAAAIjDQAAAAABAlRZBAAAAAADbCkEAAAAAAIgDQQAAAAAATN1AAAAAAACI00AAAAAAsDskQQAAAABArRJBAAAAAABqCEEAAAAAAGroQAAAAAAAauhAAAAAAFDaMUEAAAAAAGoYQQAAAAAA+RVBAAAAAABq6EAAAAAAANv6QAAAAADgyDBBAAAAAGABIkEAAAAAQCQUQQAAAAAAiONAAAAAAADb+kA=\",\"dtype\":\"float64\",\"order\":\"little\",\"shape\":[25]},\"xoffsets\":[[\"China\",\"2015\"],[\"Europe\",\"2015\"],[\"U.S.\",\"2015\"],[\"Japan\",\"2015\"],[\"Others\",\"2015\"],[\"China\",\"2016\"],[\"Europe\",\"2016\"],[\"U.S.\",\"2016\"],[\"Japan\",\"2016\"],[\"Others\",\"2016\"],[\"China\",\"2017\"],[\"Europe\",\"2017\"],[\"U.S.\",\"2017\"],[\"Japan\",\"2017\"],[\"Others\",\"2017\"],[\"China\",\"2018\"],[\"Europe\",\"2018\"],[\"U.S.\",\"2018\"],[\"Japan\",\"2018\"],[\"Others\",\"2018\"],[\"China\",\"2019\"],[\"Europe\",\"2019\"],[\"U.S.\",\"2019\"],[\"Japan\",\"2019\"],[\"Others\",\"2019\"]]},\"selected\":{\"id\":\"1785\"},\"selection_policy\":{\"id\":\"1802\"}},\"id\":\"1784\",\"type\":\"ColumnDataSource\"},{\"attributes\":{},\"id\":\"1802\",\"type\":\"UnionRenderers\"},{\"attributes\":{\"axis\":{\"id\":\"1763\"},\"grid_line_color\":null,\"ticker\":null},\"id\":\"1765\",\"type\":\"Grid\"},{\"attributes\":{\"end\":1286000.0,\"reset_end\":1286000.0,\"reset_start\":0.0,\"tags\":[[[\"value\",\"value\",null]]]},\"id\":\"1752\",\"type\":\"Range1d\"},{\"attributes\":{\"data_source\":{\"id\":\"1784\"},\"glyph\":{\"id\":\"1787\"},\"hover_glyph\":null,\"muted_glyph\":{\"id\":\"1789\"},\"nonselection_glyph\":{\"id\":\"1788\"},\"selection_glyph\":null,\"view\":{\"id\":\"1791\"}},\"id\":\"1790\",\"type\":\"GlyphRenderer\"},{\"attributes\":{\"fill_color\":{\"field\":\"Variable\",\"transform\":{\"id\":\"1783\"}},\"top\":{\"field\":\"value\"},\"width\":{\"value\":0.8},\"x\":{\"field\":\"xoffsets\"}},\"id\":\"1787\",\"type\":\"VBar\"},{\"attributes\":{},\"id\":\"1774\",\"type\":\"ResetTool\"},{\"attributes\":{},\"id\":\"1785\",\"type\":\"Selection\"},{\"attributes\":{\"axis_label\":\"\",\"bounds\":\"auto\",\"formatter\":{\"id\":\"1795\"},\"major_label_orientation\":\"horizontal\",\"ticker\":{\"id\":\"1767\"}},\"id\":\"1766\",\"type\":\"LinearAxis\"},{\"attributes\":{\"overlay\":{\"id\":\"1775\"}},\"id\":\"1773\",\"type\":\"BoxZoomTool\"},{\"attributes\":{\"source\":{\"id\":\"1784\"}},\"id\":\"1791\",\"type\":\"CDSView\"},{\"attributes\":{},\"id\":\"1770\",\"type\":\"SaveTool\"},{\"attributes\":{\"children\":[{\"id\":\"1750\"},{\"id\":\"1754\"},{\"id\":\"1812\"}],\"margin\":[0,0,0,0],\"name\":\"Row03782\",\"tags\":[\"embedded\"]},\"id\":\"1749\",\"type\":\"Row\"},{\"attributes\":{},\"id\":\"1771\",\"type\":\"PanTool\"},{\"attributes\":{\"factors\":[[\"China\",\"2015\"],[\"China\",\"2016\"],[\"China\",\"2017\"],[\"China\",\"2018\"],[\"China\",\"2019\"],[\"Europe\",\"2015\"],[\"Europe\",\"2016\"],[\"Europe\",\"2017\"],[\"Europe\",\"2018\"],[\"Europe\",\"2019\"],[\"U.S.\",\"2015\"],[\"U.S.\",\"2016\"],[\"U.S.\",\"2017\"],[\"U.S.\",\"2018\"],[\"U.S.\",\"2019\"],[\"Japan\",\"2015\"],[\"Japan\",\"2016\"],[\"Japan\",\"2017\"],[\"Japan\",\"2018\"],[\"Japan\",\"2019\"],[\"Others\",\"2015\"],[\"Others\",\"2016\"],[\"Others\",\"2017\"],[\"Others\",\"2018\"],[\"Others\",\"2019\"]],\"tags\":[[[\"COUNTRY\",\"COUNTRY\",null],[\"Variable\",\"Variable\",null]]]},\"id\":\"1751\",\"type\":\"FactorRange\"},{\"attributes\":{\"factors\":[\"2015\",\"2016\",\"2017\",\"2018\",\"2019\"],\"palette\":[\"gold\",\"gold\",\"gold\",\"gold\",\"gold\"]},\"id\":\"1783\",\"type\":\"CategoricalColorMapper\"},{\"attributes\":{},\"id\":\"1759\",\"type\":\"CategoricalScale\"},{\"attributes\":{},\"id\":\"1767\",\"type\":\"BasicTicker\"},{\"attributes\":{},\"id\":\"1764\",\"type\":\"CategoricalTicker\"},{\"attributes\":{\"bottom_units\":\"screen\",\"fill_alpha\":0.5,\"fill_color\":\"lightgrey\",\"left_units\":\"screen\",\"level\":\"overlay\",\"line_alpha\":1.0,\"line_color\":\"black\",\"line_dash\":[4,4],\"line_width\":2,\"right_units\":\"screen\",\"top_units\":\"screen\"},\"id\":\"1775\",\"type\":\"BoxAnnotation\"},{\"attributes\":{\"axis_label\":\"COUNTRY, Variable\",\"bounds\":\"auto\",\"formatter\":{\"id\":\"1792\"},\"major_label_orientation\":1.5707963267948966,\"ticker\":{\"id\":\"1764\"}},\"id\":\"1763\",\"type\":\"CategoricalAxis\"},{\"attributes\":{},\"id\":\"1761\",\"type\":\"LinearScale\"},{\"attributes\":{\"margin\":[5,5,5,5],\"name\":\"HSpacer03787\",\"sizing_mode\":\"stretch_width\"},\"id\":\"1812\",\"type\":\"Spacer\"},{\"attributes\":{\"margin\":[5,5,5,5],\"name\":\"HSpacer03786\",\"sizing_mode\":\"stretch_width\"},\"id\":\"1750\",\"type\":\"Spacer\"},{\"attributes\":{},\"id\":\"1772\",\"type\":\"WheelZoomTool\"},{\"attributes\":{\"axis\":{\"id\":\"1766\"},\"dimension\":1,\"grid_line_color\":null,\"ticker\":null},\"id\":\"1769\",\"type\":\"Grid\"},{\"attributes\":{\"callback\":null,\"renderers\":[{\"id\":\"1790\"}],\"tags\":[\"hv_created\"],\"tooltips\":[[\"COUNTRY\",\"@{COUNTRY}\"],[\"Variable\",\"@{Variable}\"],[\"value\",\"@{value}\"]]},\"id\":\"1753\",\"type\":\"HoverTool\"},{\"attributes\":{\"align\":null,\"background_fill_color\":\"lawngreen\",\"below\":[{\"id\":\"1763\"}],\"center\":[{\"id\":\"1765\"},{\"id\":\"1769\"}],\"left\":[{\"id\":\"1766\"}],\"margin\":null,\"min_border_bottom\":10,\"min_border_left\":10,\"min_border_right\":10,\"min_border_top\":10,\"plot_height\":450,\"plot_width\":450,\"renderers\":[{\"id\":\"1790\"}],\"sizing_mode\":\"fixed\",\"title\":{\"id\":\"1755\"},\"toolbar\":{\"id\":\"1776\"},\"x_range\":{\"id\":\"1751\"},\"x_scale\":{\"id\":\"1759\"},\"y_range\":{\"id\":\"1752\"},\"y_scale\":{\"id\":\"1761\"}},\"id\":\"1754\",\"subtype\":\"Figure\",\"type\":\"Plot\"},{\"attributes\":{\"active_drag\":\"auto\",\"active_inspect\":\"auto\",\"active_multi\":null,\"active_scroll\":\"auto\",\"active_tap\":\"auto\",\"tools\":[{\"id\":\"1753\"},{\"id\":\"1770\"},{\"id\":\"1771\"},{\"id\":\"1772\"},{\"id\":\"1773\"},{\"id\":\"1774\"}]},\"id\":\"1776\",\"type\":\"Toolbar\"}],\"root_ids\":[\"1749\"]},\"title\":\"Bokeh Application\",\"version\":\"2.1.1\"}};\n",
       "  var render_items = [{\"docid\":\"f9e70aa4-a374-419a-85a7-7371f6d0c0ff\",\"root_ids\":[\"1749\"],\"roots\":{\"1749\":\"681d2d25-39ec-4d77-b36a-5aec01a76630\"}}];\n",
       "  root.Bokeh.embed.embed_items_notebook(docs_json, render_items);\n",
       "  }\n",
       "if (root.Bokeh !== undefined) {\n",
       "    embed_document(root);\n",
       "  } else {\n",
       "    var attempts = 0;\n",
       "    var timer = setInterval(function(root) {\n",
       "      if (root.Bokeh !== undefined) {\n",
       "        clearInterval(timer);\n",
       "        embed_document(root);\n",
       "      } else if (document.readyState == \"complete\") {\n",
       "        attempts++;\n",
       "        if (attempts > 100) {\n",
       "          clearInterval(timer);\n",
       "          console.log(\"Bokeh: ERROR: Unable to run BokehJS code because BokehJS library is missing\");\n",
       "        }\n",
       "      }\n",
       "    }, 10, root)\n",
       "  }\n",
       "})(window);</script>"
      ],
      "text/plain": [
       ":Bars   [COUNTRY,Variable]   (value)"
      ]
     },
     "execution_count": 49,
     "metadata": {
      "application/vnd.holoviews_exec.v0+json": {
       "id": "1749"
      }
     },
     "output_type": "execute_result"
    }
   ],
   "source": [
    "ev_data.hvplot.bar(rot= 90,height=450,width=450,x='COUNTRY', y=['2015','2016','2017','2018','2019'],color=\"gold\").opts(bgcolor=\"lawngreen\")"
   ]
  },
  {
   "cell_type": "code",
   "execution_count": 37,
   "metadata": {},
   "outputs": [
    {
     "data": {
      "application/vnd.holoviews_exec.v0+json": "",
      "text/html": [
       "<div id='1375'>\n",
       "\n",
       "\n",
       "\n",
       "\n",
       "\n",
       "  <div class=\"bk-root\" id=\"e07b7917-c8fe-4433-beb0-0acce473efb6\" data-root-id=\"1375\"></div>\n",
       "</div>\n",
       "<script type=\"application/javascript\">(function(root) {\n",
       "  function embed_document(root) {\n",
       "  var docs_json = {\"2e60cf8f-a692-4fd2-9e21-e45da3654557\":{\"roots\":{\"references\":[{\"attributes\":{\"align\":null,\"below\":[{\"id\":\"1393\"}],\"center\":[{\"id\":\"1395\"},{\"id\":\"1399\"}],\"left\":[{\"id\":\"1396\"}],\"margin\":null,\"min_border_bottom\":10,\"min_border_left\":10,\"min_border_right\":10,\"min_border_top\":10,\"plot_height\":300,\"plot_width\":700,\"renderers\":[{\"id\":\"1423\"},{\"id\":\"1441\"},{\"id\":\"1460\"},{\"id\":\"1481\"},{\"id\":\"1504\"}],\"right\":[{\"id\":\"1433\"}],\"sizing_mode\":\"fixed\",\"title\":{\"id\":\"1385\"},\"toolbar\":{\"id\":\"1406\"},\"x_range\":{\"id\":\"1377\"},\"x_scale\":{\"id\":\"1389\"},\"y_range\":{\"id\":\"1378\"},\"y_scale\":{\"id\":\"1391\"}},\"id\":\"1384\",\"subtype\":\"Figure\",\"type\":\"Plot\"},{\"attributes\":{},\"id\":\"1402\",\"type\":\"WheelZoomTool\"},{\"attributes\":{},\"id\":\"1436\",\"type\":\"Selection\"},{\"attributes\":{\"fill_color\":\"#9367bc\",\"x\":{\"field\":\"x\"},\"y\":{\"field\":\"y\"}},\"id\":\"1501\",\"type\":\"Patch\"},{\"attributes\":{\"children\":[{\"id\":\"1376\"},{\"id\":\"1384\"},{\"id\":\"1667\"}],\"margin\":[0,0,0,0],\"name\":\"Row02897\",\"tags\":[\"embedded\"]},\"id\":\"1375\",\"type\":\"Row\"},{\"attributes\":{\"active_drag\":\"auto\",\"active_inspect\":\"auto\",\"active_multi\":null,\"active_scroll\":\"auto\",\"active_tap\":\"auto\",\"tools\":[{\"id\":\"1379\"},{\"id\":\"1400\"},{\"id\":\"1401\"},{\"id\":\"1402\"},{\"id\":\"1403\"},{\"id\":\"1404\"}]},\"id\":\"1406\",\"type\":\"Toolbar\"},{\"attributes\":{\"margin\":[5,5,5,5],\"name\":\"HSpacer02902\",\"sizing_mode\":\"stretch_width\"},\"id\":\"1667\",\"type\":\"Spacer\"},{\"attributes\":{\"overlay\":{\"id\":\"1405\"}},\"id\":\"1403\",\"type\":\"BoxZoomTool\"},{\"attributes\":{\"label\":{\"value\":\"2015\"},\"renderers\":[{\"id\":\"1423\"}]},\"id\":\"1434\",\"type\":\"LegendItem\"},{\"attributes\":{},\"id\":\"1455\",\"type\":\"Selection\"},{\"attributes\":{\"fill_color\":\"#ff7e0e\",\"x\":{\"field\":\"x\"},\"y\":{\"field\":\"y\"}},\"id\":\"1438\",\"type\":\"Patch\"},{\"attributes\":{},\"id\":\"1401\",\"type\":\"PanTool\"},{\"attributes\":{},\"id\":\"1394\",\"type\":\"CategoricalTicker\"},{\"attributes\":{\"data_source\":{\"id\":\"1454\"},\"glyph\":{\"id\":\"1457\"},\"hover_glyph\":null,\"muted_glyph\":{\"id\":\"1459\"},\"nonselection_glyph\":{\"id\":\"1458\"},\"selection_glyph\":null,\"view\":{\"id\":\"1461\"}},\"id\":\"1460\",\"type\":\"GlyphRenderer\"},{\"attributes\":{\"click_policy\":\"mute\",\"items\":[{\"id\":\"1434\"},{\"id\":\"1453\"},{\"id\":\"1474\"},{\"id\":\"1497\"},{\"id\":\"1522\"}],\"location\":[0,0],\"title\":\"Variable\"},\"id\":\"1433\",\"type\":\"Legend\"},{\"attributes\":{\"label\":{\"value\":\"2019\"},\"renderers\":[{\"id\":\"1504\"}]},\"id\":\"1522\",\"type\":\"LegendItem\"},{\"attributes\":{\"factors\":[\"China\",\"Europe\",\"U.S.\",\"Japan\",\"Others\"],\"tags\":[[[\"COUNTRY\",\"COUNTRY\",null]]]},\"id\":\"1377\",\"type\":\"FactorRange\"},{\"attributes\":{},\"id\":\"1400\",\"type\":\"SaveTool\"},{\"attributes\":{\"label\":{\"value\":\"2018\"},\"renderers\":[{\"id\":\"1481\"}]},\"id\":\"1497\",\"type\":\"LegendItem\"},{\"attributes\":{\"data\":{\"x\":[\"China\",\"Europe\",\"U.S.\",\"Japan\",\"Others\",\"Others\",\"Japan\",\"U.S.\",\"Europe\",\"China\"],\"y\":{\"__ndarray__\":\"AAAAAGx8QkEAAAAAcC4xQQAAAACAoilBAAAAAACIA0EAAAAAgDEHQQAAAACATxJBAAAAAABqCEEAAAAAUNoxQQAAAAAgLzpBAAAAANzgSkE=\",\"dtype\":\"float64\",\"order\":\"little\",\"shape\":[10]}},\"selected\":{\"id\":\"1499\"},\"selection_policy\":{\"id\":\"1520\"}},\"id\":\"1498\",\"type\":\"ColumnDataSource\"},{\"attributes\":{},\"id\":\"1476\",\"type\":\"Selection\"},{\"attributes\":{\"fill_alpha\":1,\"fill_color\":\"#ff7e0e\",\"line_alpha\":1,\"x\":{\"field\":\"x\"},\"y\":{\"field\":\"y\"}},\"id\":\"1439\",\"type\":\"Patch\"},{\"attributes\":{\"fill_alpha\":0.2,\"fill_color\":\"#d62628\",\"line_alpha\":0.2,\"x\":{\"field\":\"x\"},\"y\":{\"field\":\"y\"}},\"id\":\"1480\",\"type\":\"Patch\"},{\"attributes\":{\"fill_color\":\"#d62628\",\"x\":{\"field\":\"x\"},\"y\":{\"field\":\"y\"}},\"id\":\"1478\",\"type\":\"Patch\"},{\"attributes\":{\"source\":{\"id\":\"1498\"}},\"id\":\"1505\",\"type\":\"CDSView\"},{\"attributes\":{\"fill_alpha\":1,\"fill_color\":\"#2ba02b\",\"line_alpha\":1,\"x\":{\"field\":\"x\"},\"y\":{\"field\":\"y\"}},\"id\":\"1458\",\"type\":\"Patch\"},{\"attributes\":{\"source\":{\"id\":\"1475\"}},\"id\":\"1482\",\"type\":\"CDSView\"},{\"attributes\":{\"fill_alpha\":1,\"fill_color\":\"#d62628\",\"line_alpha\":1,\"x\":{\"field\":\"x\"},\"y\":{\"field\":\"y\"}},\"id\":\"1479\",\"type\":\"Patch\"},{\"attributes\":{\"fill_alpha\":0.2,\"fill_color\":\"#9367bc\",\"line_alpha\":0.2,\"x\":{\"field\":\"x\"},\"y\":{\"field\":\"y\"}},\"id\":\"1503\",\"type\":\"Patch\"},{\"attributes\":{\"fill_alpha\":0.2,\"fill_color\":\"#2ba02b\",\"line_alpha\":0.2,\"x\":{\"field\":\"x\"},\"y\":{\"field\":\"y\"}},\"id\":\"1459\",\"type\":\"Patch\"},{\"attributes\":{\"callback\":null,\"renderers\":[{\"id\":\"1423\"},{\"id\":\"1441\"},{\"id\":\"1460\"},{\"id\":\"1481\"},{\"id\":\"1504\"}],\"tags\":[\"hv_created\"],\"tooltips\":[[\"Variable\",\"@{Variable}\"],[\"COUNTRY\",\"@{COUNTRY}\"],[\"value\",\"@{value}\"],[\"Baseline\",\"@{Baseline}\"]]},\"id\":\"1379\",\"type\":\"HoverTool\"},{\"attributes\":{},\"id\":\"1495\",\"type\":\"UnionRenderers\"},{\"attributes\":{\"end\":3875300.0,\"reset_end\":3875300.0,\"reset_start\":-352300.0,\"start\":-352300.0,\"tags\":[[[\"value\",\"value\",null]]]},\"id\":\"1378\",\"type\":\"Range1d\"},{\"attributes\":{\"label\":{\"value\":\"2017\"},\"renderers\":[{\"id\":\"1460\"}]},\"id\":\"1474\",\"type\":\"LegendItem\"},{\"attributes\":{},\"id\":\"1418\",\"type\":\"Selection\"},{\"attributes\":{},\"id\":\"1404\",\"type\":\"ResetTool\"},{\"attributes\":{},\"id\":\"1397\",\"type\":\"BasicTicker\"},{\"attributes\":{\"data\":{\"x\":[\"China\",\"Europe\",\"U.S.\",\"Japan\",\"Others\",\"Others\",\"Japan\",\"U.S.\",\"Europe\",\"China\"],\"y\":{\"__ndarray__\":\"AAAAAAAAAAAAAAAAAAAAAAAAAAAAAAAAAAAAAAAAAAAAAAAAAAAAAAAAAAAAiMNAAAAAAABM3UAAAAAAAEz9QAAAAAAAaghBAAAAAADbCkE=\",\"dtype\":\"float64\",\"order\":\"little\",\"shape\":[10]}},\"selected\":{\"id\":\"1418\"},\"selection_policy\":{\"id\":\"1431\"}},\"id\":\"1417\",\"type\":\"ColumnDataSource\"},{\"attributes\":{},\"id\":\"1472\",\"type\":\"UnionRenderers\"},{\"attributes\":{\"data_source\":{\"id\":\"1475\"},\"glyph\":{\"id\":\"1478\"},\"hover_glyph\":null,\"muted_glyph\":{\"id\":\"1480\"},\"nonselection_glyph\":{\"id\":\"1479\"},\"selection_glyph\":null,\"view\":{\"id\":\"1482\"}},\"id\":\"1481\",\"type\":\"GlyphRenderer\"},{\"attributes\":{\"fill_color\":\"#2ba02b\",\"x\":{\"field\":\"x\"},\"y\":{\"field\":\"y\"}},\"id\":\"1457\",\"type\":\"Patch\"},{\"attributes\":{},\"id\":\"1389\",\"type\":\"CategoricalScale\"},{\"attributes\":{},\"id\":\"1416\",\"type\":\"BasicTickFormatter\"},{\"attributes\":{\"data\":{\"x\":[\"China\",\"Europe\",\"U.S.\",\"Japan\",\"Others\",\"Others\",\"Japan\",\"U.S.\",\"Europe\",\"China\"],\"y\":{\"__ndarray__\":\"AAAAAIgeM0EAAAAA4CcmQQAAAAAATB1BAAAAAADb+kAAAAAAAIjzQAAAAACAMQdBAAAAAACIA0EAAAAAgKIpQQAAAABwLjFBAAAAAGx8QkE=\",\"dtype\":\"float64\",\"order\":\"little\",\"shape\":[10]}},\"selected\":{\"id\":\"1476\"},\"selection_policy\":{\"id\":\"1495\"}},\"id\":\"1475\",\"type\":\"ColumnDataSource\"},{\"attributes\":{\"text\":\"\",\"text_color\":{\"value\":\"black\"},\"text_font_size\":{\"value\":\"12pt\"}},\"id\":\"1385\",\"type\":\"Title\"},{\"attributes\":{\"axis\":{\"id\":\"1393\"},\"grid_line_color\":null,\"ticker\":null},\"id\":\"1395\",\"type\":\"Grid\"},{\"attributes\":{\"source\":{\"id\":\"1435\"}},\"id\":\"1442\",\"type\":\"CDSView\"},{\"attributes\":{\"source\":{\"id\":\"1454\"}},\"id\":\"1461\",\"type\":\"CDSView\"},{\"attributes\":{\"data_source\":{\"id\":\"1498\"},\"glyph\":{\"id\":\"1501\"},\"hover_glyph\":null,\"muted_glyph\":{\"id\":\"1503\"},\"nonselection_glyph\":{\"id\":\"1502\"},\"selection_glyph\":null,\"view\":{\"id\":\"1505\"}},\"id\":\"1504\",\"type\":\"GlyphRenderer\"},{\"attributes\":{\"axis_label\":\"\",\"bounds\":\"auto\",\"formatter\":{\"id\":\"1416\"},\"major_label_orientation\":\"horizontal\",\"ticker\":{\"id\":\"1397\"}},\"id\":\"1396\",\"type\":\"LinearAxis\"},{\"attributes\":{\"bottom_units\":\"screen\",\"fill_alpha\":0.5,\"fill_color\":\"lightgrey\",\"left_units\":\"screen\",\"level\":\"overlay\",\"line_alpha\":1.0,\"line_color\":\"black\",\"line_dash\":[4,4],\"line_width\":2,\"right_units\":\"screen\",\"top_units\":\"screen\"},\"id\":\"1405\",\"type\":\"BoxAnnotation\"},{\"attributes\":{\"data_source\":{\"id\":\"1417\"},\"glyph\":{\"id\":\"1420\"},\"hover_glyph\":null,\"muted_glyph\":{\"id\":\"1422\"},\"nonselection_glyph\":{\"id\":\"1421\"},\"selection_glyph\":null,\"view\":{\"id\":\"1424\"}},\"id\":\"1423\",\"type\":\"GlyphRenderer\"},{\"attributes\":{},\"id\":\"1431\",\"type\":\"UnionRenderers\"},{\"attributes\":{\"fill_alpha\":0.2,\"fill_color\":\"#ff7e0e\",\"line_alpha\":0.2,\"x\":{\"field\":\"x\"},\"y\":{\"field\":\"y\"}},\"id\":\"1440\",\"type\":\"Patch\"},{\"attributes\":{\"fill_alpha\":0.2,\"fill_color\":\"#1f77b3\",\"line_alpha\":0.2,\"x\":{\"field\":\"x\"},\"y\":{\"field\":\"y\"}},\"id\":\"1422\",\"type\":\"Patch\"},{\"attributes\":{\"data\":{\"x\":[\"China\",\"Europe\",\"U.S.\",\"Japan\",\"Others\",\"Others\",\"Japan\",\"U.S.\",\"Europe\",\"China\"],\"y\":{\"__ndarray__\":\"AAAAAADbCkEAAAAAAGoIQQAAAAAATP1AAAAAAABM3UAAAAAAAIjDQAAAAAAATN1AAAAAAABM7UAAAAAAABcRQQAAAACAohlBAAAAAGABIkE=\",\"dtype\":\"float64\",\"order\":\"little\",\"shape\":[10]}},\"selected\":{\"id\":\"1436\"},\"selection_policy\":{\"id\":\"1451\"}},\"id\":\"1435\",\"type\":\"ColumnDataSource\"},{\"attributes\":{\"fill_alpha\":1,\"fill_color\":\"#1f77b3\",\"line_alpha\":1,\"x\":{\"field\":\"x\"},\"y\":{\"field\":\"y\"}},\"id\":\"1421\",\"type\":\"Patch\"},{\"attributes\":{},\"id\":\"1391\",\"type\":\"LinearScale\"},{\"attributes\":{\"fill_color\":\"#1f77b3\",\"x\":{\"field\":\"x\"},\"y\":{\"field\":\"y\"}},\"id\":\"1420\",\"type\":\"Patch\"},{\"attributes\":{},\"id\":\"1451\",\"type\":\"UnionRenderers\"},{\"attributes\":{\"data\":{\"x\":[\"China\",\"Europe\",\"U.S.\",\"Japan\",\"Others\",\"Others\",\"Japan\",\"U.S.\",\"Europe\",\"China\"],\"y\":{\"__ndarray__\":\"AAAAAGABIkEAAAAAgKIZQQAAAAAAFxFBAAAAAABM7UAAAAAAAEzdQAAAAAAAiPNAAAAAAADb+kAAAAAAAEwdQQAAAADgJyZBAAAAAIgeM0E=\",\"dtype\":\"float64\",\"order\":\"little\",\"shape\":[10]}},\"selected\":{\"id\":\"1455\"},\"selection_policy\":{\"id\":\"1472\"}},\"id\":\"1454\",\"type\":\"ColumnDataSource\"},{\"attributes\":{\"axis_label\":\"COUNTRY\",\"bounds\":\"auto\",\"formatter\":{\"id\":\"1413\"},\"major_label_orientation\":\"horizontal\",\"ticker\":{\"id\":\"1394\"}},\"id\":\"1393\",\"type\":\"CategoricalAxis\"},{\"attributes\":{\"source\":{\"id\":\"1417\"}},\"id\":\"1424\",\"type\":\"CDSView\"},{\"attributes\":{\"fill_alpha\":1,\"fill_color\":\"#9367bc\",\"line_alpha\":1,\"x\":{\"field\":\"x\"},\"y\":{\"field\":\"y\"}},\"id\":\"1502\",\"type\":\"Patch\"},{\"attributes\":{\"axis\":{\"id\":\"1396\"},\"dimension\":1,\"grid_line_color\":null,\"ticker\":null},\"id\":\"1399\",\"type\":\"Grid\"},{\"attributes\":{},\"id\":\"1413\",\"type\":\"CategoricalTickFormatter\"},{\"attributes\":{},\"id\":\"1499\",\"type\":\"Selection\"},{\"attributes\":{\"margin\":[5,5,5,5],\"name\":\"HSpacer02901\",\"sizing_mode\":\"stretch_width\"},\"id\":\"1376\",\"type\":\"Spacer\"},{\"attributes\":{\"label\":{\"value\":\"2016\"},\"renderers\":[{\"id\":\"1441\"}]},\"id\":\"1453\",\"type\":\"LegendItem\"},{\"attributes\":{},\"id\":\"1520\",\"type\":\"UnionRenderers\"},{\"attributes\":{\"data_source\":{\"id\":\"1435\"},\"glyph\":{\"id\":\"1438\"},\"hover_glyph\":null,\"muted_glyph\":{\"id\":\"1440\"},\"nonselection_glyph\":{\"id\":\"1439\"},\"selection_glyph\":null,\"view\":{\"id\":\"1442\"}},\"id\":\"1441\",\"type\":\"GlyphRenderer\"}],\"root_ids\":[\"1375\"]},\"title\":\"Bokeh Application\",\"version\":\"2.1.1\"}};\n",
       "  var render_items = [{\"docid\":\"2e60cf8f-a692-4fd2-9e21-e45da3654557\",\"root_ids\":[\"1375\"],\"roots\":{\"1375\":\"e07b7917-c8fe-4433-beb0-0acce473efb6\"}}];\n",
       "  root.Bokeh.embed.embed_items_notebook(docs_json, render_items);\n",
       "  }\n",
       "if (root.Bokeh !== undefined) {\n",
       "    embed_document(root);\n",
       "  } else {\n",
       "    var attempts = 0;\n",
       "    var timer = setInterval(function(root) {\n",
       "      if (root.Bokeh !== undefined) {\n",
       "        clearInterval(timer);\n",
       "        embed_document(root);\n",
       "      } else if (document.readyState == \"complete\") {\n",
       "        attempts++;\n",
       "        if (attempts > 100) {\n",
       "          clearInterval(timer);\n",
       "          console.log(\"Bokeh: ERROR: Unable to run BokehJS code because BokehJS library is missing\");\n",
       "        }\n",
       "      }\n",
       "    }, 10, root)\n",
       "  }\n",
       "})(window);</script>"
      ],
      "text/plain": [
       ":NdOverlay   [Variable]\n",
       "   :Area   [COUNTRY]   (value,Baseline)"
      ]
     },
     "execution_count": 37,
     "metadata": {
      "application/vnd.holoviews_exec.v0+json": {
       "id": "1375"
      }
     },
     "output_type": "execute_result"
    }
   ],
   "source": [
    "ev_data.hvplot.area(x='COUNTRY', y=['2015','2016','2017','2018','2019'])"
   ]
  },
  {
   "cell_type": "code",
   "execution_count": null,
   "metadata": {},
   "outputs": [],
   "source": []
  }
 ],
 "metadata": {
  "kernelspec": {
   "display_name": "Python [conda env:pyvizenv] *",
   "language": "python",
   "name": "conda-env-pyvizenv-py"
  },
  "language_info": {
   "codemirror_mode": {
    "name": "ipython",
    "version": 3
   },
   "file_extension": ".py",
   "mimetype": "text/x-python",
   "name": "python",
   "nbconvert_exporter": "python",
   "pygments_lexer": "ipython3",
   "version": "3.7.7"
  }
 },
 "nbformat": 4,
 "nbformat_minor": 4
}
