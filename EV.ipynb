{
 "cells": [
  {
   "cell_type": "code",
   "execution_count": 24,
   "metadata": {},
   "outputs": [],
   "source": [
    "import panel as pn\n",
    "pn.extension('plotly')\n",
    "import plotly.express as px\n",
    "import pandas as pd\n",
    "import hvplot.pandas\n",
    "import matplotlib.pyplot as plt\n",
    "import os\n",
    "from pathlib import Path\n",
    "from dotenv import load_dotenv"
   ]
  },
  {
   "cell_type": "code",
   "execution_count": 25,
   "metadata": {},
   "outputs": [
    {
     "data": {
      "text/html": [
       "<div>\n",
       "<style scoped>\n",
       "    .dataframe tbody tr th:only-of-type {\n",
       "        vertical-align: middle;\n",
       "    }\n",
       "\n",
       "    .dataframe tbody tr th {\n",
       "        vertical-align: top;\n",
       "    }\n",
       "\n",
       "    .dataframe thead th {\n",
       "        text-align: right;\n",
       "    }\n",
       "</style>\n",
       "<table border=\"1\" class=\"dataframe\">\n",
       "  <thead>\n",
       "    <tr style=\"text-align: right;\">\n",
       "      <th></th>\n",
       "      <th>Vehicles</th>\n",
       "      <th>Number</th>\n",
       "    </tr>\n",
       "  </thead>\n",
       "  <tbody>\n",
       "    <tr>\n",
       "      <th>0</th>\n",
       "      <td>e-bues</td>\n",
       "      <td>500000.0</td>\n",
       "    </tr>\n",
       "    <tr>\n",
       "      <th>1</th>\n",
       "      <td>e-delivary vans and trucks</td>\n",
       "      <td>400000.0</td>\n",
       "    </tr>\n",
       "    <tr>\n",
       "      <th>2</th>\n",
       "      <td>e-mopeds, scooters,motorcycle</td>\n",
       "      <td>1840000.0</td>\n",
       "    </tr>\n",
       "  </tbody>\n",
       "</table>\n",
       "</div>"
      ],
      "text/plain": [
       "                        Vehicles     Number\n",
       "0                         e-bues   500000.0\n",
       "1     e-delivary vans and trucks   400000.0\n",
       "2  e-mopeds, scooters,motorcycle  1840000.0"
      ]
     },
     "execution_count": 25,
     "metadata": {},
     "output_type": "execute_result"
    }
   ],
   "source": [
    "file_path = Path(\"ev_vehicles_20.csv\")\n",
    "ev_sale_20 = pd.read_csv(file_path,skiprows=1)\n",
    "ev_sale_20=ev_sale_20.astype({\"Vehicles\": str, \"Number\": float})\n",
    "ev_sale_20"
   ]
  },
  {
   "cell_type": "code",
   "execution_count": 46,
   "metadata": {},
   "outputs": [
    {
     "data": {
      "application/vnd.holoviews_exec.v0+json": "",
      "text/html": [
       "<div id='1205'>\n",
       "\n",
       "\n",
       "\n",
       "\n",
       "\n",
       "  <div class=\"bk-root\" id=\"e5974e1b-beb5-4998-9e9a-cd046874cc27\" data-root-id=\"1205\"></div>\n",
       "</div>\n",
       "<script type=\"application/javascript\">(function(root) {\n",
       "  function embed_document(root) {\n",
       "  var docs_json = {\"8569eac2-86ba-492b-bdf6-306b42cb5894\":{\"roots\":{\"references\":[{\"attributes\":{\"axis_label\":\"Vehicles\",\"bounds\":\"auto\",\"formatter\":{\"id\":\"1248\"},\"major_label_orientation\":1.5707963267948966,\"ticker\":{\"id\":\"1220\"}},\"id\":\"1219\",\"type\":\"CategoricalAxis\"},{\"attributes\":{},\"id\":\"1226\",\"type\":\"SaveTool\"},{\"attributes\":{\"overlay\":{\"id\":\"1231\"}},\"id\":\"1229\",\"type\":\"BoxZoomTool\"},{\"attributes\":{\"active_drag\":\"auto\",\"active_inspect\":\"auto\",\"active_multi\":null,\"active_scroll\":\"auto\",\"active_tap\":\"auto\",\"tools\":[{\"id\":\"1209\"},{\"id\":\"1226\"},{\"id\":\"1227\"},{\"id\":\"1228\"},{\"id\":\"1229\"},{\"id\":\"1230\"}]},\"id\":\"1232\",\"type\":\"Toolbar\"},{\"attributes\":{},\"id\":\"1230\",\"type\":\"ResetTool\"},{\"attributes\":{\"data\":{\"Number\":{\"__ndarray__\":\"AAAAAICEHkEAAAAAAGoYQQAAAACAEzxB\",\"dtype\":\"float64\",\"order\":\"little\",\"shape\":[3]},\"Vehicles\":[\"e-bues\",\"e-delivary vans and trucks\",\"e-mopeds, scooters,motorcycle\"]},\"selected\":{\"id\":\"1240\"},\"selection_policy\":{\"id\":\"1258\"}},\"id\":\"1239\",\"type\":\"ColumnDataSource\"},{\"attributes\":{\"align\":null,\"below\":[{\"id\":\"1219\"}],\"center\":[{\"id\":\"1221\"},{\"id\":\"1225\"}],\"left\":[{\"id\":\"1222\"}],\"margin\":null,\"min_border_bottom\":10,\"min_border_left\":10,\"min_border_right\":10,\"min_border_top\":10,\"plot_height\":450,\"plot_width\":450,\"renderers\":[{\"id\":\"1245\"}],\"sizing_mode\":\"fixed\",\"title\":{\"id\":\"1211\"},\"toolbar\":{\"id\":\"1232\"},\"x_range\":{\"id\":\"1207\"},\"x_scale\":{\"id\":\"1215\"},\"y_range\":{\"id\":\"1208\"},\"y_scale\":{\"id\":\"1217\"}},\"id\":\"1210\",\"subtype\":\"Figure\",\"type\":\"Plot\"},{\"attributes\":{\"text\":\"\",\"text_color\":{\"value\":\"black\"},\"text_font_size\":{\"value\":\"12pt\"}},\"id\":\"1211\",\"type\":\"Title\"},{\"attributes\":{},\"id\":\"1240\",\"type\":\"Selection\"},{\"attributes\":{\"children\":[{\"id\":\"1206\"},{\"id\":\"1210\"},{\"id\":\"1268\"}],\"margin\":[0,0,0,0],\"name\":\"Row02200\",\"tags\":[\"embedded\"]},\"id\":\"1205\",\"type\":\"Row\"},{\"attributes\":{\"axis\":{\"id\":\"1222\"},\"dimension\":1,\"grid_line_color\":null,\"ticker\":null},\"id\":\"1225\",\"type\":\"Grid\"},{\"attributes\":{\"axis_label\":\"Number\",\"bounds\":\"auto\",\"formatter\":{\"id\":\"1247\"},\"major_label_orientation\":\"horizontal\",\"ticker\":{\"id\":\"1223\"}},\"id\":\"1222\",\"type\":\"LinearAxis\"},{\"attributes\":{\"format\":\"%.0f\"},\"id\":\"1247\",\"type\":\"PrintfTickFormatter\"},{\"attributes\":{\"source\":{\"id\":\"1239\"}},\"id\":\"1246\",\"type\":\"CDSView\"},{\"attributes\":{},\"id\":\"1248\",\"type\":\"CategoricalTickFormatter\"},{\"attributes\":{},\"id\":\"1223\",\"type\":\"BasicTicker\"},{\"attributes\":{},\"id\":\"1215\",\"type\":\"CategoricalScale\"},{\"attributes\":{},\"id\":\"1228\",\"type\":\"WheelZoomTool\"},{\"attributes\":{\"end\":1984000.0,\"reset_end\":1984000.0,\"reset_start\":0.0,\"tags\":[[[\"Number\",\"Number\",null]]]},\"id\":\"1208\",\"type\":\"Range1d\"},{\"attributes\":{\"data_source\":{\"id\":\"1239\"},\"glyph\":{\"id\":\"1242\"},\"hover_glyph\":null,\"muted_glyph\":{\"id\":\"1244\"},\"nonselection_glyph\":{\"id\":\"1243\"},\"selection_glyph\":null,\"view\":{\"id\":\"1246\"}},\"id\":\"1245\",\"type\":\"GlyphRenderer\"},{\"attributes\":{\"margin\":[5,5,5,5],\"name\":\"HSpacer02205\",\"sizing_mode\":\"stretch_width\"},\"id\":\"1268\",\"type\":\"Spacer\"},{\"attributes\":{\"factors\":[\"e-bues\",\"e-delivary vans and trucks\",\"e-mopeds, scooters,motorcycle\"],\"tags\":[[[\"Vehicles\",\"Vehicles\",null]]]},\"id\":\"1207\",\"type\":\"FactorRange\"},{\"attributes\":{},\"id\":\"1220\",\"type\":\"CategoricalTicker\"},{\"attributes\":{\"fill_color\":{\"value\":\"red\"},\"top\":{\"field\":\"Number\"},\"width\":{\"value\":0.8},\"x\":{\"field\":\"Vehicles\"}},\"id\":\"1242\",\"type\":\"VBar\"},{\"attributes\":{\"axis\":{\"id\":\"1219\"},\"grid_line_color\":null,\"ticker\":null},\"id\":\"1221\",\"type\":\"Grid\"},{\"attributes\":{},\"id\":\"1227\",\"type\":\"PanTool\"},{\"attributes\":{\"fill_alpha\":{\"value\":0.1},\"fill_color\":{\"value\":\"red\"},\"line_alpha\":{\"value\":0.1},\"top\":{\"field\":\"Number\"},\"width\":{\"value\":0.8},\"x\":{\"field\":\"Vehicles\"}},\"id\":\"1243\",\"type\":\"VBar\"},{\"attributes\":{\"margin\":[5,5,5,5],\"name\":\"HSpacer02204\",\"sizing_mode\":\"stretch_width\"},\"id\":\"1206\",\"type\":\"Spacer\"},{\"attributes\":{},\"id\":\"1258\",\"type\":\"UnionRenderers\"},{\"attributes\":{\"fill_alpha\":{\"value\":0.2},\"fill_color\":{\"value\":\"red\"},\"line_alpha\":{\"value\":0.2},\"top\":{\"field\":\"Number\"},\"width\":{\"value\":0.8},\"x\":{\"field\":\"Vehicles\"}},\"id\":\"1244\",\"type\":\"VBar\"},{\"attributes\":{\"callback\":null,\"renderers\":[{\"id\":\"1245\"}],\"tags\":[\"hv_created\"],\"tooltips\":[[\"Vehicles\",\"@{Vehicles}\"],[\"Number\",\"@{Number}\"]]},\"id\":\"1209\",\"type\":\"HoverTool\"},{\"attributes\":{},\"id\":\"1217\",\"type\":\"LinearScale\"},{\"attributes\":{\"bottom_units\":\"screen\",\"fill_alpha\":0.5,\"fill_color\":\"lightgrey\",\"left_units\":\"screen\",\"level\":\"overlay\",\"line_alpha\":1.0,\"line_color\":\"black\",\"line_dash\":[4,4],\"line_width\":2,\"right_units\":\"screen\",\"top_units\":\"screen\"},\"id\":\"1231\",\"type\":\"BoxAnnotation\"}],\"root_ids\":[\"1205\"]},\"title\":\"Bokeh Application\",\"version\":\"2.1.1\"}};\n",
       "  var render_items = [{\"docid\":\"8569eac2-86ba-492b-bdf6-306b42cb5894\",\"root_ids\":[\"1205\"],\"roots\":{\"1205\":\"e5974e1b-beb5-4998-9e9a-cd046874cc27\"}}];\n",
       "  root.Bokeh.embed.embed_items_notebook(docs_json, render_items);\n",
       "  }\n",
       "if (root.Bokeh !== undefined) {\n",
       "    embed_document(root);\n",
       "  } else {\n",
       "    var attempts = 0;\n",
       "    var timer = setInterval(function(root) {\n",
       "      if (root.Bokeh !== undefined) {\n",
       "        clearInterval(timer);\n",
       "        embed_document(root);\n",
       "      } else if (document.readyState == \"complete\") {\n",
       "        attempts++;\n",
       "        if (attempts > 100) {\n",
       "          clearInterval(timer);\n",
       "          console.log(\"Bokeh: ERROR: Unable to run BokehJS code because BokehJS library is missing\");\n",
       "        }\n",
       "      }\n",
       "    }, 10, root)\n",
       "  }\n",
       "})(window);</script>"
      ],
      "text/plain": [
       ":Bars   [Vehicles]   (Number)"
      ]
     },
     "execution_count": 46,
     "metadata": {
      "application/vnd.holoviews_exec.v0+json": {
       "id": "1205"
      }
     },
     "output_type": "execute_result"
    }
   ],
   "source": [
    "\n",
    "ev_sale_20.hvplot.bar(rot= 90,height=450,width=450, x=\"Vehicles\",y=\"Number\",color=\"red\").opts(yformatter=\"%.0f\")"
   ]
  },
  {
   "cell_type": "code",
   "execution_count": 64,
   "metadata": {},
   "outputs": [
    {
     "data": {
      "text/html": [
       "<div>\n",
       "<style scoped>\n",
       "    .dataframe tbody tr th:only-of-type {\n",
       "        vertical-align: middle;\n",
       "    }\n",
       "\n",
       "    .dataframe tbody tr th {\n",
       "        vertical-align: top;\n",
       "    }\n",
       "\n",
       "    .dataframe thead th {\n",
       "        text-align: right;\n",
       "    }\n",
       "</style>\n",
       "<table border=\"1\" class=\"dataframe\">\n",
       "  <thead>\n",
       "    <tr style=\"text-align: right;\">\n",
       "      <th></th>\n",
       "      <th>year</th>\n",
       "      <th>passengers use ev in future</th>\n",
       "    </tr>\n",
       "  </thead>\n",
       "  <tbody>\n",
       "    <tr>\n",
       "      <th>0</th>\n",
       "      <td>2025</td>\n",
       "      <td>10.0</td>\n",
       "    </tr>\n",
       "    <tr>\n",
       "      <th>1</th>\n",
       "      <td>2030</td>\n",
       "      <td>28.0</td>\n",
       "    </tr>\n",
       "    <tr>\n",
       "      <th>2</th>\n",
       "      <td>2040</td>\n",
       "      <td>58.0</td>\n",
       "    </tr>\n",
       "  </tbody>\n",
       "</table>\n",
       "</div>"
      ],
      "text/plain": [
       "   year  passengers use ev in future\n",
       "0  2025                         10.0\n",
       "1  2030                         28.0\n",
       "2  2040                         58.0"
      ]
     },
     "execution_count": 64,
     "metadata": {},
     "output_type": "execute_result"
    }
   ],
   "source": [
    "file_path = Path(\"global_passengers.csv\")\n",
    "passengers_data = pd.read_csv(file_path,skiprows=1)\n",
    "passengers_data[\"passengers use ev in future\"]= passengers_data[\"passengers use ev in future\"].astype(\"float\")\n",
    "\n",
    "\n",
    "passengers_data.head()"
   ]
  },
  {
   "cell_type": "code",
   "execution_count": 70,
   "metadata": {},
   "outputs": [
    {
     "data": {
      "application/vnd.holoviews_exec.v0+json": "",
      "text/html": [
       "<div id='1305'>\n",
       "\n",
       "\n",
       "\n",
       "\n",
       "\n",
       "  <div class=\"bk-root\" id=\"17aa769f-26f3-408c-8d0c-0cb7ff59fcad\" data-root-id=\"1305\"></div>\n",
       "</div>\n",
       "<script type=\"application/javascript\">(function(root) {\n",
       "  function embed_document(root) {\n",
       "  var docs_json = {\"63430382-2196-4dd9-ab7b-1c8c9576280a\":{\"roots\":{\"references\":[{\"attributes\":{\"axis\":{\"id\":\"1319\"},\"grid_line_color\":null,\"ticker\":null},\"id\":\"1321\",\"type\":\"Grid\"},{\"attributes\":{},\"id\":\"1330\",\"type\":\"ResetTool\"},{\"attributes\":{\"factors\":[\"2025\",\"2030\",\"2040\"],\"tags\":[[[\"year\",\"year\",null]]]},\"id\":\"1307\",\"type\":\"FactorRange\"},{\"attributes\":{},\"id\":\"1327\",\"type\":\"PanTool\"},{\"attributes\":{\"callback\":null,\"renderers\":[{\"id\":\"1345\"}],\"tags\":[\"hv_created\"],\"tooltips\":[[\"year\",\"@{year}\"],[\"passengers use ev in future\",\"@{passengers_use_ev_in_future}\"]]},\"id\":\"1309\",\"type\":\"HoverTool\"},{\"attributes\":{\"format\":\"%.0f\"},\"id\":\"1347\",\"type\":\"PrintfTickFormatter\"},{\"attributes\":{\"axis_label\":\"year\",\"bounds\":\"auto\",\"formatter\":{\"id\":\"1348\"},\"major_label_orientation\":1.5707963267948966,\"ticker\":{\"id\":\"1320\"}},\"id\":\"1319\",\"type\":\"CategoricalAxis\"},{\"attributes\":{\"align\":null,\"below\":[{\"id\":\"1319\"}],\"center\":[{\"id\":\"1321\"},{\"id\":\"1325\"}],\"left\":[{\"id\":\"1322\"}],\"margin\":null,\"min_border_bottom\":10,\"min_border_left\":10,\"min_border_right\":10,\"min_border_top\":10,\"plot_height\":450,\"plot_width\":450,\"renderers\":[{\"id\":\"1345\"}],\"sizing_mode\":\"fixed\",\"title\":{\"id\":\"1311\"},\"toolbar\":{\"id\":\"1332\"},\"x_range\":{\"id\":\"1307\"},\"x_scale\":{\"id\":\"1315\"},\"y_range\":{\"id\":\"1308\"},\"y_scale\":{\"id\":\"1317\"}},\"id\":\"1310\",\"subtype\":\"Figure\",\"type\":\"Plot\"},{\"attributes\":{\"end\":62.8,\"reset_end\":62.8,\"reset_start\":0.0,\"tags\":[[[\"passengers use ev in future\",\"passengers use ev in future\",null]]]},\"id\":\"1308\",\"type\":\"Range1d\"},{\"attributes\":{\"margin\":[5,5,5,5],\"name\":\"HSpacer02450\",\"sizing_mode\":\"stretch_width\"},\"id\":\"1368\",\"type\":\"Spacer\"},{\"attributes\":{},\"id\":\"1320\",\"type\":\"CategoricalTicker\"},{\"attributes\":{\"margin\":[5,5,5,5],\"name\":\"HSpacer02449\",\"sizing_mode\":\"stretch_width\"},\"id\":\"1306\",\"type\":\"Spacer\"},{\"attributes\":{},\"id\":\"1315\",\"type\":\"CategoricalScale\"},{\"attributes\":{\"fill_alpha\":{\"value\":0.1},\"fill_color\":{\"value\":\"#1f77b3\"},\"line_alpha\":{\"value\":0.1},\"top\":{\"field\":\"passengers_use_ev_in_future\"},\"width\":{\"value\":0.8},\"x\":{\"field\":\"year\"}},\"id\":\"1343\",\"type\":\"VBar\"},{\"attributes\":{\"source\":{\"id\":\"1339\"}},\"id\":\"1346\",\"type\":\"CDSView\"},{\"attributes\":{\"active_drag\":\"auto\",\"active_inspect\":\"auto\",\"active_multi\":null,\"active_scroll\":\"auto\",\"active_tap\":\"auto\",\"tools\":[{\"id\":\"1309\"},{\"id\":\"1326\"},{\"id\":\"1327\"},{\"id\":\"1328\"},{\"id\":\"1329\"},{\"id\":\"1330\"}]},\"id\":\"1332\",\"type\":\"Toolbar\"},{\"attributes\":{},\"id\":\"1326\",\"type\":\"SaveTool\"},{\"attributes\":{\"fill_alpha\":{\"value\":0.2},\"fill_color\":{\"value\":\"#1f77b3\"},\"line_alpha\":{\"value\":0.2},\"top\":{\"field\":\"passengers_use_ev_in_future\"},\"width\":{\"value\":0.8},\"x\":{\"field\":\"year\"}},\"id\":\"1344\",\"type\":\"VBar\"},{\"attributes\":{\"axis\":{\"id\":\"1322\"},\"dimension\":1,\"grid_line_color\":null,\"ticker\":null},\"id\":\"1325\",\"type\":\"Grid\"},{\"attributes\":{},\"id\":\"1317\",\"type\":\"LinearScale\"},{\"attributes\":{\"data\":{\"passengers_use_ev_in_future\":{\"__ndarray__\":\"AAAAAAAAJEAAAAAAAAA8QAAAAAAAAE1A\",\"dtype\":\"float64\",\"order\":\"little\",\"shape\":[3]},\"year\":[\"2025\",\"2030\",\"2040\"]},\"selected\":{\"id\":\"1340\"},\"selection_policy\":{\"id\":\"1358\"}},\"id\":\"1339\",\"type\":\"ColumnDataSource\"},{\"attributes\":{},\"id\":\"1323\",\"type\":\"BasicTicker\"},{\"attributes\":{\"bottom_units\":\"screen\",\"fill_alpha\":0.5,\"fill_color\":\"lightgrey\",\"left_units\":\"screen\",\"level\":\"overlay\",\"line_alpha\":1.0,\"line_color\":\"black\",\"line_dash\":[4,4],\"line_width\":2,\"right_units\":\"screen\",\"top_units\":\"screen\"},\"id\":\"1331\",\"type\":\"BoxAnnotation\"},{\"attributes\":{\"data_source\":{\"id\":\"1339\"},\"glyph\":{\"id\":\"1342\"},\"hover_glyph\":null,\"muted_glyph\":{\"id\":\"1344\"},\"nonselection_glyph\":{\"id\":\"1343\"},\"selection_glyph\":null,\"view\":{\"id\":\"1346\"}},\"id\":\"1345\",\"type\":\"GlyphRenderer\"},{\"attributes\":{},\"id\":\"1348\",\"type\":\"CategoricalTickFormatter\"},{\"attributes\":{},\"id\":\"1358\",\"type\":\"UnionRenderers\"},{\"attributes\":{\"axis_label\":\"passengers use ev in future\",\"bounds\":\"auto\",\"formatter\":{\"id\":\"1347\"},\"major_label_orientation\":\"horizontal\",\"ticker\":{\"id\":\"1323\"}},\"id\":\"1322\",\"type\":\"LinearAxis\"},{\"attributes\":{\"text\":\"\",\"text_color\":{\"value\":\"black\"},\"text_font_size\":{\"value\":\"12pt\"}},\"id\":\"1311\",\"type\":\"Title\"},{\"attributes\":{},\"id\":\"1328\",\"type\":\"WheelZoomTool\"},{\"attributes\":{\"overlay\":{\"id\":\"1331\"}},\"id\":\"1329\",\"type\":\"BoxZoomTool\"},{\"attributes\":{\"fill_color\":{\"value\":\"#1f77b3\"},\"top\":{\"field\":\"passengers_use_ev_in_future\"},\"width\":{\"value\":0.8},\"x\":{\"field\":\"year\"}},\"id\":\"1342\",\"type\":\"VBar\"},{\"attributes\":{\"children\":[{\"id\":\"1306\"},{\"id\":\"1310\"},{\"id\":\"1368\"}],\"margin\":[0,0,0,0],\"name\":\"Row02445\",\"tags\":[\"embedded\"]},\"id\":\"1305\",\"type\":\"Row\"},{\"attributes\":{},\"id\":\"1340\",\"type\":\"Selection\"}],\"root_ids\":[\"1305\"]},\"title\":\"Bokeh Application\",\"version\":\"2.1.1\"}};\n",
       "  var render_items = [{\"docid\":\"63430382-2196-4dd9-ab7b-1c8c9576280a\",\"root_ids\":[\"1305\"],\"roots\":{\"1305\":\"17aa769f-26f3-408c-8d0c-0cb7ff59fcad\"}}];\n",
       "  root.Bokeh.embed.embed_items_notebook(docs_json, render_items);\n",
       "  }\n",
       "if (root.Bokeh !== undefined) {\n",
       "    embed_document(root);\n",
       "  } else {\n",
       "    var attempts = 0;\n",
       "    var timer = setInterval(function(root) {\n",
       "      if (root.Bokeh !== undefined) {\n",
       "        clearInterval(timer);\n",
       "        embed_document(root);\n",
       "      } else if (document.readyState == \"complete\") {\n",
       "        attempts++;\n",
       "        if (attempts > 100) {\n",
       "          clearInterval(timer);\n",
       "          console.log(\"Bokeh: ERROR: Unable to run BokehJS code because BokehJS library is missing\");\n",
       "        }\n",
       "      }\n",
       "    }, 10, root)\n",
       "  }\n",
       "})(window);</script>"
      ],
      "text/plain": [
       ":Bars   [year]   (passengers use ev in future)"
      ]
     },
     "execution_count": 70,
     "metadata": {
      "application/vnd.holoviews_exec.v0+json": {
       "id": "1305"
      }
     },
     "output_type": "execute_result"
    }
   ],
   "source": [
    "passengers_data.hvplot.bar(rot= 90,height=450,width=450, x=\"year\",y=\"passengers use ev in future\",).opts(yformatter=\"%.0f\")"
   ]
  },
  {
   "cell_type": "code",
   "execution_count": 76,
   "metadata": {},
   "outputs": [
    {
     "data": {
      "text/html": [
       "<div>\n",
       "<style scoped>\n",
       "    .dataframe tbody tr th:only-of-type {\n",
       "        vertical-align: middle;\n",
       "    }\n",
       "\n",
       "    .dataframe tbody tr th {\n",
       "        vertical-align: top;\n",
       "    }\n",
       "\n",
       "    .dataframe thead th {\n",
       "        text-align: right;\n",
       "    }\n",
       "</style>\n",
       "<table border=\"1\" class=\"dataframe\">\n",
       "  <thead>\n",
       "    <tr style=\"text-align: right;\">\n",
       "      <th></th>\n",
       "      <th>Year</th>\n",
       "      <th>Number in million</th>\n",
       "    </tr>\n",
       "  </thead>\n",
       "  <tbody>\n",
       "    <tr>\n",
       "      <th>0</th>\n",
       "      <td>2020</td>\n",
       "      <td>1.0</td>\n",
       "    </tr>\n",
       "    <tr>\n",
       "      <th>1</th>\n",
       "      <td>2022</td>\n",
       "      <td>2.2</td>\n",
       "    </tr>\n",
       "    <tr>\n",
       "      <th>2</th>\n",
       "      <td>2024</td>\n",
       "      <td>4.4</td>\n",
       "    </tr>\n",
       "  </tbody>\n",
       "</table>\n",
       "</div>"
      ],
      "text/plain": [
       "   Year  Number in million\n",
       "0  2020                1.0\n",
       "1  2022                2.2\n",
       "2  2024                4.4"
      ]
     },
     "execution_count": 76,
     "metadata": {},
     "output_type": "execute_result"
    }
   ],
   "source": [
    "file_path = Path(\"CGAR_data.csv\")\n",
    "cgar_data = pd.read_csv(file_path,skiprows=1)\n",
    "\n",
    "cgar_data.head()"
   ]
  },
  {
   "cell_type": "code",
   "execution_count": 77,
   "metadata": {},
   "outputs": [
    {
     "data": {
      "application/vnd.holoviews_exec.v0+json": "",
      "text/html": [
       "<div id='1510'>\n",
       "\n",
       "\n",
       "\n",
       "\n",
       "\n",
       "  <div class=\"bk-root\" id=\"8af1f1fd-171a-48f9-80aa-457a250e4514\" data-root-id=\"1510\"></div>\n",
       "</div>\n",
       "<script type=\"application/javascript\">(function(root) {\n",
       "  function embed_document(root) {\n",
       "  var docs_json = {\"19d1bcee-b4cf-4ef5-af8e-cad94019868b\":{\"roots\":{\"references\":[{\"attributes\":{\"callback\":null,\"renderers\":[{\"id\":\"1551\"}],\"tags\":[\"hv_created\"],\"tooltips\":[[\"Year\",\"@{Year}\"],[\"Number in million\",\"@{Number_in_million}\"]]},\"id\":\"1514\",\"type\":\"HoverTool\"},{\"attributes\":{\"source\":{\"id\":\"1545\"}},\"id\":\"1552\",\"type\":\"CDSView\"},{\"attributes\":{\"children\":[{\"id\":\"1511\"},{\"id\":\"1515\"},{\"id\":\"1573\"}],\"margin\":[0,0,0,0],\"name\":\"Row02777\",\"tags\":[\"embedded\"]},\"id\":\"1510\",\"type\":\"Row\"},{\"attributes\":{},\"id\":\"1553\",\"type\":\"BasicTickFormatter\"},{\"attributes\":{\"data\":{\"x\":[2020,2022,2024,2024,2022,2020],\"y\":{\"__ndarray__\":\"AAAAAAAAAAAAAAAAAAAAAAAAAAAAAAAAmpmZmZmZEUCamZmZmZkBQAAAAAAAAPA/\",\"dtype\":\"float64\",\"order\":\"little\",\"shape\":[6]}},\"selected\":{\"id\":\"1546\"},\"selection_policy\":{\"id\":\"1562\"}},\"id\":\"1545\",\"type\":\"ColumnDataSource\"},{\"attributes\":{\"fill_color\":\"#1f77b3\",\"x\":{\"field\":\"x\"},\"y\":{\"field\":\"y\"}},\"id\":\"1548\",\"type\":\"Patch\"},{\"attributes\":{\"margin\":[5,5,5,5],\"name\":\"HSpacer02781\",\"sizing_mode\":\"stretch_width\"},\"id\":\"1511\",\"type\":\"Spacer\"},{\"attributes\":{\"align\":null,\"below\":[{\"id\":\"1524\"}],\"center\":[{\"id\":\"1527\"},{\"id\":\"1531\"}],\"left\":[{\"id\":\"1528\"}],\"margin\":null,\"min_border_bottom\":10,\"min_border_left\":10,\"min_border_right\":10,\"min_border_top\":10,\"plot_height\":450,\"plot_width\":450,\"renderers\":[{\"id\":\"1551\"}],\"sizing_mode\":\"fixed\",\"title\":{\"id\":\"1516\"},\"toolbar\":{\"id\":\"1538\"},\"x_range\":{\"id\":\"1512\"},\"x_scale\":{\"id\":\"1520\"},\"y_range\":{\"id\":\"1513\"},\"y_scale\":{\"id\":\"1522\"}},\"id\":\"1515\",\"subtype\":\"Figure\",\"type\":\"Plot\"},{\"attributes\":{\"data_source\":{\"id\":\"1545\"},\"glyph\":{\"id\":\"1548\"},\"hover_glyph\":null,\"muted_glyph\":{\"id\":\"1550\"},\"nonselection_glyph\":{\"id\":\"1549\"},\"selection_glyph\":null,\"view\":{\"id\":\"1552\"}},\"id\":\"1551\",\"type\":\"GlyphRenderer\"},{\"attributes\":{},\"id\":\"1532\",\"type\":\"SaveTool\"},{\"attributes\":{},\"id\":\"1520\",\"type\":\"LinearScale\"},{\"attributes\":{},\"id\":\"1534\",\"type\":\"WheelZoomTool\"},{\"attributes\":{},\"id\":\"1533\",\"type\":\"PanTool\"},{\"attributes\":{\"text\":\"\",\"text_color\":{\"value\":\"black\"},\"text_font_size\":{\"value\":\"12pt\"}},\"id\":\"1516\",\"type\":\"Title\"},{\"attributes\":{\"end\":2024.0,\"reset_end\":2024.0,\"reset_start\":2020.0,\"start\":2020.0,\"tags\":[[[\"Year\",\"Year\",null]]]},\"id\":\"1512\",\"type\":\"Range1d\"},{\"attributes\":{\"overlay\":{\"id\":\"1537\"}},\"id\":\"1535\",\"type\":\"BoxZoomTool\"},{\"attributes\":{},\"id\":\"1546\",\"type\":\"Selection\"},{\"attributes\":{\"fill_alpha\":1,\"fill_color\":\"#1f77b3\",\"line_alpha\":1,\"x\":{\"field\":\"x\"},\"y\":{\"field\":\"y\"}},\"id\":\"1549\",\"type\":\"Patch\"},{\"attributes\":{},\"id\":\"1522\",\"type\":\"LinearScale\"},{\"attributes\":{\"fill_alpha\":0.2,\"fill_color\":\"#1f77b3\",\"line_alpha\":0.2,\"x\":{\"field\":\"x\"},\"y\":{\"field\":\"y\"}},\"id\":\"1550\",\"type\":\"Patch\"},{\"attributes\":{},\"id\":\"1536\",\"type\":\"ResetTool\"},{\"attributes\":{\"active_drag\":\"auto\",\"active_inspect\":\"auto\",\"active_multi\":null,\"active_scroll\":\"auto\",\"active_tap\":\"auto\",\"tools\":[{\"id\":\"1514\"},{\"id\":\"1532\"},{\"id\":\"1533\"},{\"id\":\"1534\"},{\"id\":\"1535\"},{\"id\":\"1536\"}]},\"id\":\"1538\",\"type\":\"Toolbar\"},{\"attributes\":{\"axis_label\":\"Number in million\",\"bounds\":\"auto\",\"formatter\":{\"id\":\"1555\"},\"major_label_orientation\":\"horizontal\",\"ticker\":{\"id\":\"1529\"}},\"id\":\"1528\",\"type\":\"LinearAxis\"},{\"attributes\":{\"axis\":{\"id\":\"1524\"},\"grid_line_color\":null,\"ticker\":null},\"id\":\"1527\",\"type\":\"Grid\"},{\"attributes\":{\"axis_label\":\"Year\",\"bounds\":\"auto\",\"formatter\":{\"id\":\"1553\"},\"major_label_orientation\":1.5707963267948966,\"ticker\":{\"id\":\"1525\"}},\"id\":\"1524\",\"type\":\"LinearAxis\"},{\"attributes\":{},\"id\":\"1562\",\"type\":\"UnionRenderers\"},{\"attributes\":{\"bottom_units\":\"screen\",\"fill_alpha\":0.5,\"fill_color\":\"lightgrey\",\"left_units\":\"screen\",\"level\":\"overlay\",\"line_alpha\":1.0,\"line_color\":\"black\",\"line_dash\":[4,4],\"line_width\":2,\"right_units\":\"screen\",\"top_units\":\"screen\"},\"id\":\"1537\",\"type\":\"BoxAnnotation\"},{\"attributes\":{\"end\":4.74,\"reset_end\":4.74,\"reset_start\":0.0,\"tags\":[[[\"Number in million\",\"Number in million\",null]]]},\"id\":\"1513\",\"type\":\"Range1d\"},{\"attributes\":{},\"id\":\"1525\",\"type\":\"BasicTicker\"},{\"attributes\":{\"margin\":[5,5,5,5],\"name\":\"HSpacer02782\",\"sizing_mode\":\"stretch_width\"},\"id\":\"1573\",\"type\":\"Spacer\"},{\"attributes\":{},\"id\":\"1529\",\"type\":\"BasicTicker\"},{\"attributes\":{},\"id\":\"1555\",\"type\":\"BasicTickFormatter\"},{\"attributes\":{\"axis\":{\"id\":\"1528\"},\"dimension\":1,\"grid_line_color\":null,\"ticker\":null},\"id\":\"1531\",\"type\":\"Grid\"}],\"root_ids\":[\"1510\"]},\"title\":\"Bokeh Application\",\"version\":\"2.1.1\"}};\n",
       "  var render_items = [{\"docid\":\"19d1bcee-b4cf-4ef5-af8e-cad94019868b\",\"root_ids\":[\"1510\"],\"roots\":{\"1510\":\"8af1f1fd-171a-48f9-80aa-457a250e4514\"}}];\n",
       "  root.Bokeh.embed.embed_items_notebook(docs_json, render_items);\n",
       "  }\n",
       "if (root.Bokeh !== undefined) {\n",
       "    embed_document(root);\n",
       "  } else {\n",
       "    var attempts = 0;\n",
       "    var timer = setInterval(function(root) {\n",
       "      if (root.Bokeh !== undefined) {\n",
       "        clearInterval(timer);\n",
       "        embed_document(root);\n",
       "      } else if (document.readyState == \"complete\") {\n",
       "        attempts++;\n",
       "        if (attempts > 100) {\n",
       "          clearInterval(timer);\n",
       "          console.log(\"Bokeh: ERROR: Unable to run BokehJS code because BokehJS library is missing\");\n",
       "        }\n",
       "      }\n",
       "    }, 10, root)\n",
       "  }\n",
       "})(window);</script>"
      ],
      "text/plain": [
       ":Area   [Year]   (Number in million)"
      ]
     },
     "execution_count": 77,
     "metadata": {
      "application/vnd.holoviews_exec.v0+json": {
       "id": "1510"
      }
     },
     "output_type": "execute_result"
    }
   ],
   "source": [
    "cgar_data.hvplot.area(rot= 90,height=450,width=450, x=\"Year\",y=\"Number in million\")"
   ]
  },
  {
   "cell_type": "code",
   "execution_count": null,
   "metadata": {},
   "outputs": [],
   "source": []
  }
 ],
 "metadata": {
  "kernelspec": {
   "display_name": "Python [conda env:pyvizenv] *",
   "language": "python",
   "name": "conda-env-pyvizenv-py"
  },
  "language_info": {
   "codemirror_mode": {
    "name": "ipython",
    "version": 3
   },
   "file_extension": ".py",
   "mimetype": "text/x-python",
   "name": "python",
   "nbconvert_exporter": "python",
   "pygments_lexer": "ipython3",
   "version": "3.7.7"
  }
 },
 "nbformat": 4,
 "nbformat_minor": 4
}
